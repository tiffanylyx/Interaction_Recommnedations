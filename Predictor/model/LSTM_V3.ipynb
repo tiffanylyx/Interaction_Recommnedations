{
 "cells": [
  {
   "cell_type": "code",
   "execution_count": 1,
   "metadata": {
    "executionInfo": {
     "elapsed": 3524,
     "status": "ok",
     "timestamp": 1616604669632,
     "user": {
      "displayName": "万兜",
      "photoUrl": "",
      "userId": "15342960538383726613"
     },
     "user_tz": -480
    },
    "id": "OrkI8pHysTGH"
   },
   "outputs": [],
   "source": [
    "# LSTM for international airline passengers problem with memory\n",
    "import numpy\n",
    "import matplotlib.pyplot as plt\n",
    "from pandas import read_csv\n",
    "import math\n",
    "from keras.models import Sequential\n",
    "from keras.layers import Dense, Bidirectional, Dropout\n",
    "from keras.layers import LSTM\n",
    "from sklearn.preprocessing import MinMaxScaler\n",
    "from sklearn.metrics import mean_squared_error\n",
    "from sklearn.preprocessing import normalize\n",
    "from keras.models import load_model"
   ]
  },
  {
   "cell_type": "markdown",
   "metadata": {
    "id": "NYOmrSeM0IRe"
   },
   "source": [
    "Record the result \n",
    "\n",
    "https://shimo.im/docs/89HGjyWXqHjv6kt9"
   ]
  },
  {
   "cell_type": "code",
   "execution_count": 7,
   "metadata": {
    "colab": {
     "base_uri": "https://localhost:8080/"
    },
    "executionInfo": {
     "elapsed": 8209,
     "status": "ok",
     "timestamp": 1616604767561,
     "user": {
      "displayName": "万兜",
      "photoUrl": "",
      "userId": "15342960538383726613"
     },
     "user_tz": -480
    },
    "id": "QlnQAImML4NX",
    "outputId": "4889f643-08f9-40ce-ad65-b160c8d3b06e"
   },
   "outputs": [
    {
     "name": "stdout",
     "output_type": "stream",
     "text": [
      "Mounted at /content/drive/\n",
      "/content/drive/My Drive/Museum_vis\n"
     ]
    }
   ],
   "source": [
    "from google.colab import drive\n",
    "drive.mount('/content/drive/')\n",
    "%cd /content/drive/My Drive/Museum_vis"
   ]
  },
  {
   "cell_type": "code",
   "execution_count": 2,
   "metadata": {
    "executionInfo": {
     "elapsed": 616,
     "status": "ok",
     "timestamp": 1616604770880,
     "user": {
      "displayName": "万兜",
      "photoUrl": "",
      "userId": "15342960538383726613"
     },
     "user_tz": -480
    },
    "id": "DcqXnkbkvZx-"
   },
   "outputs": [],
   "source": [
    "\"\"\"\n",
    "之前是网络训练100个周期\n",
    "model.fit(trainX, trainY, epochs=100, batch_size=1, verbose=2)\n",
    "\n",
    "每次网络训练1个周期，循环执行100次，每次循环重置网络状态\n",
    "for i in range(100):\n",
    "\tmodel.fit(trainX, trainY, epochs=1, batch_size=batch_size, verbose=2, shuffle=False)\n",
    "\tmodel.reset_states()\n",
    "\n",
    "model.add(LSTM(4, batch_input_shape=(batch_size, time_steps, features), stateful=True))\n",
    "model.predict(trainX, batch_size=batch_size)\n",
    "\"\"\"\n",
    "# 将数据截取成3个一组的监督学习格式\n",
    "def create_dataset(dataset, look_back=1):\n",
    "\tdataX, dataY = [], []\n",
    "\tfor i in range(len(dataset)-look_back-1):\n",
    "\t\ta = dataset[i:(i+look_back), :]\n",
    "\t\tdataX.append(a)\n",
    "\t\tdataY.append(dataset[i + look_back, :])\n",
    "\treturn numpy.array(dataX), numpy.array(dataY)\n"
   ]
  },
  {
   "cell_type": "code",
   "execution_count": 9,
   "metadata": {
    "executionInfo": {
     "elapsed": 614,
     "status": "ok",
     "timestamp": 1616604773631,
     "user": {
      "displayName": "万兜",
      "photoUrl": "",
      "userId": "15342960538383726613"
     },
     "user_tz": -480
    },
    "id": "QxrrevUDXzEp"
   },
   "outputs": [],
   "source": [
    "f = numpy.load('test.npy', allow_pickle=True)\n",
    "sequence = []\n",
    "for i in f:\n",
    "  for j in i:\n",
    "    sequence.append(j)"
   ]
  },
  {
   "cell_type": "code",
   "execution_count": 10,
   "metadata": {
    "executionInfo": {
     "elapsed": 616,
     "status": "ok",
     "timestamp": 1616604776625,
     "user": {
      "displayName": "万兜",
      "photoUrl": "",
      "userId": "15342960538383726613"
     },
     "user_tz": -480
    },
    "id": "aEjWBlHKXs4l"
   },
   "outputs": [],
   "source": [
    "value_6 = []\n",
    "value_7 = []\n",
    "value_8 = []\n",
    "for i in sequence:\n",
    "  if len(i) == 8:\n",
    "    value_6.append(i[5])\n",
    "  if len(i) >= 7:\n",
    "    value_7.append(i[4])\n",
    "  elif len(i) >= 6:\n",
    "    value_8.append(i[3])\n",
    "compute_mean = [numpy.mean(value_6),numpy.mean(value_7),numpy.mean(value_8)]"
   ]
  },
  {
   "cell_type": "code",
   "execution_count": 11,
   "metadata": {
    "colab": {
     "base_uri": "https://localhost:8080/"
    },
    "executionInfo": {
     "elapsed": 726,
     "status": "ok",
     "timestamp": 1616604778866,
     "user": {
      "displayName": "万兜",
      "photoUrl": "",
      "userId": "15342960538383726613"
     },
     "user_tz": -480
    },
    "id": "RO_HvlTlYtO_",
    "outputId": "c28b6e2f-7bc6-4d35-c622-36f263a611f9"
   },
   "outputs": [
    {
     "data": {
      "text/plain": [
       "[349.40776699029124, 52.371108343711086, 205.34299325129018]"
      ]
     },
     "execution_count": 11,
     "metadata": {
      "tags": []
     },
     "output_type": "execute_result"
    }
   ],
   "source": [
    "compute_mean"
   ]
  },
  {
   "cell_type": "code",
   "execution_count": 12,
   "metadata": {
    "colab": {
     "base_uri": "https://localhost:8080/"
    },
    "executionInfo": {
     "elapsed": 514,
     "status": "ok",
     "timestamp": 1616604779972,
     "user": {
      "displayName": "万兜",
      "photoUrl": "",
      "userId": "15342960538383726613"
     },
     "user_tz": -480
    },
    "id": "ikDuhBDj3jyw",
    "outputId": "43deabae-c822-4af6-8c35-ff441967c67c"
   },
   "outputs": [
    {
     "name": "stdout",
     "output_type": "stream",
     "text": [
      "[[ 50.         349.          52.37110834 205.34299325   7.\n",
      "   15.        ]\n",
      " [ 50.         332.          52.37110834 205.34299325   7.\n",
      "   15.        ]\n",
      " [ 50.         349.          52.37110834 205.34299325   7.\n",
      "   15.        ]\n",
      " [105.          17.          52.37110834 205.34299325   7.\n",
      "   15.        ]\n",
      " [ 93.          50.          52.37110834 205.34299325   7.\n",
      "   15.        ]]\n"
     ]
    }
   ],
   "source": [
    "count = 0\n",
    "sequence2 = []\n",
    "max_len = 8\n",
    "for i in sequence:\n",
    "  # print(i)\n",
    "  if len(i)==5:\n",
    "    i[3:3] = compute_mean\n",
    "  elif len(i)==6:\n",
    "    i[4:4] = compute_mean[1:]\n",
    "  elif len(i)==7:\n",
    "    i[5:5] = compute_mean[2:]\n",
    "  # print(i,\"\\n\")\n",
    "  sequence2.append(numpy.array(i[2:]))\n",
    "dataset2 = numpy.array(sequence2)\n",
    "print(dataset2[:5])\n",
    "max_value = dataset2.max(axis=0)\n",
    "min_value = dataset2.min(axis=0)\n",
    "dataset2 = dataset2/(dataset2.max(axis=0)-dataset2.min(axis=0))\n",
    "# print(dataset2[:5]*(max_value-min_value))\n",
    "# dataset2 = dataset2.reshape([len(dataset2),8])\n"
   ]
  },
  {
   "cell_type": "code",
   "execution_count": 13,
   "metadata": {
    "colab": {
     "base_uri": "https://localhost:8080/"
    },
    "executionInfo": {
     "elapsed": 640,
     "status": "ok",
     "timestamp": 1616604783799,
     "user": {
      "displayName": "万兜",
      "photoUrl": "",
      "userId": "15342960538383726613"
     },
     "user_tz": -480
    },
    "id": "l_JxN3tEvEmQ",
    "outputId": "2e824c26-82f2-435e-ae7d-6398e02714a6"
   },
   "outputs": [
    {
     "data": {
      "text/plain": [
       "array([487., 679., 581., 640.,  22.,  30.])"
      ]
     },
     "execution_count": 13,
     "metadata": {
      "tags": []
     },
     "output_type": "execute_result"
    }
   ],
   "source": [
    "max_value"
   ]
  },
  {
   "cell_type": "code",
   "execution_count": 14,
   "metadata": {
    "colab": {
     "base_uri": "https://localhost:8080/"
    },
    "executionInfo": {
     "elapsed": 609,
     "status": "ok",
     "timestamp": 1616604787628,
     "user": {
      "displayName": "万兜",
      "photoUrl": "",
      "userId": "15342960538383726613"
     },
     "user_tz": -480
    },
    "id": "U_FsBl62wVWH",
    "outputId": "802b9786-9e70-4b29-95fa-db302fa6141e"
   },
   "outputs": [
    {
     "name": "stdout",
     "output_type": "stream",
     "text": [
      "[0.03369272 0.18633209 0.08998472 0.34981771 0.41176471 0.625     ]\n",
      "[0.00067385 0.1865498  0.08998472 0.34981771 0.29411765 0.625     ]\n"
     ]
    }
   ],
   "source": [
    "# 分割2/3数据作为测试\n",
    "train_size = int(len(dataset2) * 0.8)\n",
    "test_size = len(dataset2) - train_size\n",
    "train, test = dataset2[0:train_size,:], dataset2[train_size:len(dataset2),:]\n",
    "print(train[0])\n",
    "print(test[0])\n",
    "# 预测数据步长为3,三个预测一个，3->1\n",
    "look_back = 3\n",
    "trainX, trainY = create_dataset(train, look_back)\n",
    "testX, testY = create_dataset(test, look_back)\n",
    "\n",
    "# 重构输入数据格式 [samples, time steps, features] = [93,3,1]\n",
    "#trainX = numpy.reshape(trainX, (trainX.shape[0], trainX.shape[1], 1))\n",
    "#testX = numpy.reshape(testX, (testX.shape[0], testX.shape[1], 1))\n"
   ]
  },
  {
   "cell_type": "code",
   "execution_count": 15,
   "metadata": {
    "executionInfo": {
     "elapsed": 928,
     "status": "ok",
     "timestamp": 1616604790821,
     "user": {
      "displayName": "万兜",
      "photoUrl": "",
      "userId": "15342960538383726613"
     },
     "user_tz": -480
    },
    "id": "zrAaMMlITqoZ"
   },
   "outputs": [],
   "source": [
    "numpy.save('testX.npy',testX)"
   ]
  },
  {
   "cell_type": "code",
   "execution_count": 16,
   "metadata": {
    "colab": {
     "base_uri": "https://localhost:8080/"
    },
    "executionInfo": {
     "elapsed": 1060,
     "status": "ok",
     "timestamp": 1616604792453,
     "user": {
      "displayName": "万兜",
      "photoUrl": "",
      "userId": "15342960538383726613"
     },
     "user_tz": -480
    },
    "id": "en5NXRvQuFz8",
    "outputId": "a353ca7d-a1b3-4223-8283-d445f2dfa845"
   },
   "outputs": [
    {
     "name": "stdout",
     "output_type": "stream",
     "text": [
      "4159\n",
      "3\n",
      "(4159, 3, 6)\n",
      "(3, 6)\n",
      "[[0.03369272 0.18633209 0.08998472 0.34981771 0.41176471 0.625     ]\n",
      " [0.03369272 0.17725574 0.08998472 0.34981771 0.41176471 0.625     ]\n",
      " [0.03369272 0.18633209 0.08998472 0.34981771 0.41176471 0.625     ]]\n"
     ]
    }
   ],
   "source": [
    "print(len(trainX))\n",
    "print(len(trainX[0]))\n",
    "print(trainX.shape)\n",
    "print(trainX[0].shape)\n",
    "print(trainX[0])"
   ]
  },
  {
   "cell_type": "code",
   "execution_count": 5,
   "metadata": {
    "executionInfo": {
     "elapsed": 700,
     "status": "ok",
     "timestamp": 1616605296888,
     "user": {
      "displayName": "万兜",
      "photoUrl": "",
      "userId": "15342960538383726613"
     },
     "user_tz": -480
    },
    "id": "vUNRU5DNuoMn"
   },
   "outputs": [],
   "source": [
    "\n",
    "# 构建 LSTM 网络\n",
    "#output_size = trainX[0].shape[1]\n",
    "batch_size = 1\n",
    "model = Sequential()\n",
    "model.add(Bidirectional(LSTM(50, batch_input_shape=(batch_size, 3, 6), stateful=True)))\n",
    "model.add(Dropout(0.2))\n",
    "model.add(Dense(6))\n",
    "model.compile(loss='mean_squared_error', optimizer='adam')"
   ]
  },
  {
   "cell_type": "code",
   "execution_count": 9,
   "metadata": {},
   "outputs": [
    {
     "ename": "ValueError",
     "evalue": "This model has not yet been built. Build the model first by calling `build()` or calling `fit()` with some data, or specify an `input_shape` argument in the first layer(s) for automatic build.",
     "output_type": "error",
     "traceback": [
      "\u001b[0;31m---------------------------------------------------------------------------\u001b[0m",
      "\u001b[0;31mValueError\u001b[0m                                Traceback (most recent call last)",
      "\u001b[0;32m<ipython-input-9-5f15418b3570>\u001b[0m in \u001b[0;36m<module>\u001b[0;34m\u001b[0m\n\u001b[0;32m----> 1\u001b[0;31m \u001b[0mmodel\u001b[0m\u001b[0;34m.\u001b[0m\u001b[0msummary\u001b[0m\u001b[0;34m(\u001b[0m\u001b[0;34m)\u001b[0m\u001b[0;34m\u001b[0m\u001b[0;34m\u001b[0m\u001b[0m\n\u001b[0m",
      "\u001b[0;32m~/.local/lib/python3.7/site-packages/tensorflow/python/keras/engine/training.py\u001b[0m in \u001b[0;36msummary\u001b[0;34m(self, line_length, positions, print_fn)\u001b[0m\n\u001b[1;32m   2374\u001b[0m     \"\"\"\n\u001b[1;32m   2375\u001b[0m     \u001b[0;32mif\u001b[0m \u001b[0;32mnot\u001b[0m \u001b[0mself\u001b[0m\u001b[0;34m.\u001b[0m\u001b[0mbuilt\u001b[0m\u001b[0;34m:\u001b[0m\u001b[0;34m\u001b[0m\u001b[0;34m\u001b[0m\u001b[0m\n\u001b[0;32m-> 2376\u001b[0;31m       raise ValueError('This model has not yet been built. '\n\u001b[0m\u001b[1;32m   2377\u001b[0m                        \u001b[0;34m'Build the model first by calling `build()` or calling '\u001b[0m\u001b[0;34m\u001b[0m\u001b[0;34m\u001b[0m\u001b[0m\n\u001b[1;32m   2378\u001b[0m                        \u001b[0;34m'`fit()` with some data, or specify '\u001b[0m\u001b[0;34m\u001b[0m\u001b[0;34m\u001b[0m\u001b[0m\n",
      "\u001b[0;31mValueError\u001b[0m: This model has not yet been built. Build the model first by calling `build()` or calling `fit()` with some data, or specify an `input_shape` argument in the first layer(s) for automatic build."
     ]
    }
   ],
   "source": [
    "model.summary()"
   ]
  },
  {
   "cell_type": "code",
   "execution_count": 18,
   "metadata": {
    "colab": {
     "base_uri": "https://localhost:8080/",
     "height": 1000
    },
    "executionInfo": {
     "elapsed": 860801,
     "status": "ok",
     "timestamp": 1616606158701,
     "user": {
      "displayName": "万兜",
      "photoUrl": "",
      "userId": "15342960538383726613"
     },
     "user_tz": -480
    },
    "id": "BAWShwoPwFBY",
    "outputId": "73e3d3ec-19e3-46e2-a57a-a705e5620ff7"
   },
   "outputs": [
    {
     "name": "stdout",
     "output_type": "stream",
     "text": [
      "4159/4159 - 11s - loss: 0.0324\n",
      "4159/4159 - 8s - loss: 0.0260\n",
      "4159/4159 - 8s - loss: 0.0254\n",
      "4159/4159 - 8s - loss: 0.0248\n",
      "4159/4159 - 8s - loss: 0.0244\n",
      "4159/4159 - 8s - loss: 0.0243\n",
      "4159/4159 - 8s - loss: 0.0240\n",
      "4159/4159 - 8s - loss: 0.0237\n",
      "4159/4159 - 8s - loss: 0.0237\n",
      "4159/4159 - 8s - loss: 0.0234\n",
      "4159/4159 - 8s - loss: 0.0234\n",
      "4159/4159 - 8s - loss: 0.0232\n",
      "4159/4159 - 8s - loss: 0.0231\n",
      "4159/4159 - 8s - loss: 0.0231\n",
      "4159/4159 - 8s - loss: 0.0229\n",
      "4159/4159 - 8s - loss: 0.0227\n",
      "4159/4159 - 8s - loss: 0.0227\n",
      "4159/4159 - 8s - loss: 0.0227\n",
      "4159/4159 - 8s - loss: 0.0225\n",
      "4159/4159 - 9s - loss: 0.0224\n",
      "4159/4159 - 8s - loss: 0.0225\n",
      "4159/4159 - 8s - loss: 0.0223\n",
      "4159/4159 - 8s - loss: 0.0221\n",
      "4159/4159 - 9s - loss: 0.0221\n",
      "4159/4159 - 9s - loss: 0.0221\n",
      "4159/4159 - 9s - loss: 0.0222\n",
      "4159/4159 - 9s - loss: 0.0221\n",
      "4159/4159 - 9s - loss: 0.0219\n",
      "4159/4159 - 8s - loss: 0.0218\n",
      "4159/4159 - 9s - loss: 0.0218\n",
      "4159/4159 - 9s - loss: 0.0217\n",
      "4159/4159 - 8s - loss: 0.0217\n",
      "4159/4159 - 9s - loss: 0.0216\n",
      "4159/4159 - 9s - loss: 0.0215\n",
      "4159/4159 - 8s - loss: 0.0215\n",
      "4159/4159 - 8s - loss: 0.0214\n",
      "4159/4159 - 9s - loss: 0.0214\n",
      "4159/4159 - 9s - loss: 0.0212\n",
      "4159/4159 - 9s - loss: 0.0211\n",
      "4159/4159 - 9s - loss: 0.0210\n",
      "4159/4159 - 9s - loss: 0.0212\n",
      "4159/4159 - 9s - loss: 0.0209\n",
      "4159/4159 - 9s - loss: 0.0209\n",
      "4159/4159 - 9s - loss: 0.0209\n",
      "4159/4159 - 9s - loss: 0.0209\n",
      "4159/4159 - 9s - loss: 0.0206\n",
      "4159/4159 - 9s - loss: 0.0205\n",
      "4159/4159 - 9s - loss: 0.0206\n",
      "4159/4159 - 9s - loss: 0.0203\n",
      "4159/4159 - 9s - loss: 0.0203\n",
      "4159/4159 - 9s - loss: 0.0202\n",
      "4159/4159 - 9s - loss: 0.0202\n",
      "4159/4159 - 9s - loss: 0.0202\n",
      "4159/4159 - 9s - loss: 0.0202\n",
      "4159/4159 - 9s - loss: 0.0201\n",
      "4159/4159 - 10s - loss: 0.0201\n",
      "4159/4159 - 9s - loss: 0.0200\n",
      "4159/4159 - 9s - loss: 0.0199\n",
      "4159/4159 - 9s - loss: 0.0198\n",
      "4159/4159 - 9s - loss: 0.0197\n",
      "4159/4159 - 9s - loss: 0.0195\n",
      "4159/4159 - 8s - loss: 0.0197\n",
      "4159/4159 - 8s - loss: 0.0198\n",
      "4159/4159 - 8s - loss: 0.0195\n",
      "4159/4159 - 8s - loss: 0.0195\n",
      "4159/4159 - 8s - loss: 0.0195\n",
      "4159/4159 - 8s - loss: 0.0195\n",
      "4159/4159 - 8s - loss: 0.0195\n",
      "4159/4159 - 8s - loss: 0.0194\n",
      "4159/4159 - 8s - loss: 0.0192\n",
      "4159/4159 - 8s - loss: 0.0193\n",
      "4159/4159 - 8s - loss: 0.0190\n",
      "4159/4159 - 8s - loss: 0.0191\n",
      "4159/4159 - 8s - loss: 0.0190\n",
      "4159/4159 - 9s - loss: 0.0190\n",
      "4159/4159 - 8s - loss: 0.0191\n",
      "4159/4159 - 9s - loss: 0.0190\n",
      "4159/4159 - 9s - loss: 0.0190\n",
      "4159/4159 - 9s - loss: 0.0189\n",
      "4159/4159 - 9s - loss: 0.0189\n",
      "4159/4159 - 9s - loss: 0.0188\n",
      "4159/4159 - 9s - loss: 0.0187\n",
      "4159/4159 - 9s - loss: 0.0187\n",
      "4159/4159 - 9s - loss: 0.0188\n",
      "4159/4159 - 8s - loss: 0.0187\n",
      "4159/4159 - 8s - loss: 0.0186\n",
      "4159/4159 - 8s - loss: 0.0187\n",
      "4159/4159 - 8s - loss: 0.0183\n",
      "4159/4159 - 8s - loss: 0.0185\n",
      "4159/4159 - 8s - loss: 0.0184\n",
      "4159/4159 - 8s - loss: 0.0184\n",
      "4159/4159 - 9s - loss: 0.0183\n",
      "4159/4159 - 8s - loss: 0.0181\n",
      "4159/4159 - 8s - loss: 0.0184\n",
      "4159/4159 - 8s - loss: 0.0184\n",
      "4159/4159 - 8s - loss: 0.0180\n",
      "4159/4159 - 9s - loss: 0.0179\n",
      "4159/4159 - 8s - loss: 0.0181\n",
      "4159/4159 - 8s - loss: 0.0179\n",
      "4159/4159 - 8s - loss: 0.0178\n"
     ]
    },
    {
     "data": {
      "application/vnd.google.colaboratory.intrinsic+json": {
       "type": "string"
      },
      "text/plain": [
       "'\\n# 对数据进行逆缩放\\ntrainPredict = scaler.inverse_transform(trainPredict)\\ntrainY = scaler.inverse_transform([trainY])\\ntestPredict = scaler.inverse_transform(testPredict)\\ntestY = scaler.inverse_transform([testY])\\n\\n'"
      ]
     },
     "execution_count": 18,
     "metadata": {
      "tags": []
     },
     "output_type": "execute_result"
    }
   ],
   "source": [
    "\n",
    "# 网络训练一个周期，循环训练100次\n",
    "for i in range(100):\n",
    "    #shuffle=False训练时不打数据乱顺序\n",
    "\tmodel.fit(trainX, trainY, epochs=1, batch_size=batch_size, verbose=2, shuffle=False)\n",
    "    # 每次训练完都重置网络状态\n",
    "\tmodel.reset_states()\n",
    "\n",
    "'''\n",
    "# 对数据进行逆缩放\n",
    "trainPredict = scaler.inverse_transform(trainPredict)\n",
    "trainY = scaler.inverse_transform([trainY])\n",
    "testPredict = scaler.inverse_transform(testPredict)\n",
    "testY = scaler.inverse_transform([testY])\n",
    "\n",
    "'''"
   ]
  },
  {
   "cell_type": "code",
   "execution_count": 25,
   "metadata": {
    "executionInfo": {
     "elapsed": 854,
     "status": "ok",
     "timestamp": 1616606270499,
     "user": {
      "displayName": "万兜",
      "photoUrl": "",
      "userId": "15342960538383726613"
     },
     "user_tz": -480
    },
    "id": "tUNummQhJMU3"
   },
   "outputs": [],
   "source": [
    "model.save('LSTM_V1.h5')"
   ]
  },
  {
   "cell_type": "code",
   "execution_count": 26,
   "metadata": {
    "executionInfo": {
     "elapsed": 1088,
     "status": "ok",
     "timestamp": 1616606272085,
     "user": {
      "displayName": "万兜",
      "photoUrl": "",
      "userId": "15342960538383726613"
     },
     "user_tz": -480
    },
    "id": "RIjx-TtVW8W4"
   },
   "outputs": [],
   "source": [
    "model = load_model('LSTM_V1.h5')"
   ]
  },
  {
   "cell_type": "code",
   "execution_count": 27,
   "metadata": {
    "executionInfo": {
     "elapsed": 5604,
     "status": "ok",
     "timestamp": 1616606278179,
     "user": {
      "displayName": "万兜",
      "photoUrl": "",
      "userId": "15342960538383726613"
     },
     "user_tz": -480
    },
    "id": "rDzI6BKXpXTR"
   },
   "outputs": [],
   "source": [
    "batch_size = 1\n",
    "# 对训练数据的Y进行预测\n",
    "trainPredict = model.predict(trainX, batch_size=batch_size)\n",
    "# 重置网络状态\n",
    "model.reset_states()\n",
    "# 对测试数据的Y进行预测\n",
    "testPredict = model.predict(testX, batch_size=batch_size)"
   ]
  },
  {
   "cell_type": "code",
   "execution_count": 28,
   "metadata": {
    "colab": {
     "base_uri": "https://localhost:8080/"
    },
    "executionInfo": {
     "elapsed": 615,
     "status": "ok",
     "timestamp": 1616606279818,
     "user": {
      "displayName": "万兜",
      "photoUrl": "",
      "userId": "15342960538383726613"
     },
     "user_tz": -480
    },
    "id": "BUL5ZiDa3EPP",
    "outputId": "ca284cf6-3de9-4627-e372-31098d4e06a1"
   },
   "outputs": [
    {
     "name": "stdout",
     "output_type": "stream",
     "text": [
      "[[0.02046665 0.15579765 0.08867863 0.33966175 0.38243538 0.6318073 ]\n",
      " [0.05740462 0.08472171 0.07178282 0.3409816  0.57330966 0.6203882 ]\n",
      " [0.04199374 0.09363139 0.1012751  0.35686544 0.6412962  0.7085672 ]\n",
      " [0.06298377 0.08666848 0.0724293  0.32975495 0.5032003  0.6657209 ]\n",
      " [0.04204443 0.13034251 0.08146681 0.33306763 0.52518845 0.6438268 ]]\n",
      "[[0.07075472 0.00907635 0.08998472 0.34981771 0.41176471 0.625     ]\n",
      " [0.06266846 0.02669514 0.08998472 0.34981771 0.41176471 0.625     ]\n",
      " [0.15431267 0.00907635 0.08998472 0.34981771 0.41176471 0.625     ]\n",
      " [0.03638814 0.10624666 0.08998472 0.34981771 0.41176471 0.625     ]\n",
      " [0.03638814 0.11532301 0.08998472 0.34981771 0.41176471 0.625     ]]\n"
     ]
    }
   ],
   "source": [
    "print(trainPredict[:5])\n",
    "print(trainY[:5])"
   ]
  },
  {
   "cell_type": "code",
   "execution_count": 29,
   "metadata": {
    "executionInfo": {
     "elapsed": 539,
     "status": "ok",
     "timestamp": 1616606281073,
     "user": {
      "displayName": "万兜",
      "photoUrl": "",
      "userId": "15342960538383726613"
     },
     "user_tz": -480
    },
    "id": "6LLZQ-eAT9cL"
   },
   "outputs": [],
   "source": [
    "def find_closed(number_list, value):\n",
    "  min_value = 10000\n",
    "  closest = 0\n",
    "  for i in number_list:\n",
    "    a = abs(i-value)\n",
    "    if a<min_value:\n",
    "      closest = i\n",
    "      min_value = a\n",
    "  return closest\n"
   ]
  },
  {
   "cell_type": "code",
   "execution_count": 30,
   "metadata": {
    "colab": {
     "base_uri": "https://localhost:8080/"
    },
    "executionInfo": {
     "elapsed": 487,
     "status": "ok",
     "timestamp": 1616606282557,
     "user": {
      "displayName": "万兜",
      "photoUrl": "",
      "userId": "15342960538383726613"
     },
     "user_tz": -480
    },
    "id": "nmZCWKwyo1so",
    "outputId": "447088c7-9a6e-4008-e96e-ef2865914206"
   },
   "outputs": [
    {
     "name": "stdout",
     "output_type": "stream",
     "text": [
      "[ 30.37250569 291.80898993  51.61096162 199.38144562   6.50140148\n",
      "  15.16337585]\n",
      "[105.          17.          52.37110834 205.34299325   7.\n",
      "  15.        ]\n",
      "[ 85.18845417 158.68377081  41.7776012  200.15620077   9.74626422\n",
      "  14.88931704]\n",
      "[ 93.          50.          52.37110834 205.34299325   7.\n",
      "  15.        ]\n",
      "[ 62.31871156 175.3715874   58.94210896 209.48001084  10.90203553\n",
      "  17.00561285]\n",
      "[229.          17.          52.37110834 205.34299325   7.\n",
      "  15.        ]\n",
      "[ 93.46792009 162.33007037  42.15385222 193.56615484   8.55440497\n",
      "  15.97730112]\n",
      "[ 54.         199.          52.37110834 205.34299325   7.\n",
      "  15.        ]\n",
      "[ 62.39394109 244.13152745  47.41368279 195.51069632   8.92820358\n",
      "  15.45184278]\n",
      "[ 54.         216.          52.37110834 205.34299325   7.\n",
      "  15.        ]\n",
      "[ 55.28874238 236.09141815  60.8820941  216.07561985   8.83975244\n",
      "  16.62538004]\n",
      "[ 74.          83.          52.37110834 205.34299325   7.\n",
      "  15.        ]\n",
      "[106.5334776  182.59527704  67.99249224 222.48231155  12.88310027\n",
      "  16.85440493]\n",
      "[ 39.         365.          52.37110834 205.34299325   7.\n",
      "  15.        ]\n",
      "[ 61.12304971 332.3044322   49.080576   192.6624167    9.32863724\n",
      "  17.17918253]\n",
      "[ 36.         449.          52.37110834 205.34299325   7.\n",
      "  15.        ]\n",
      "[ 49.0186699  353.03072396  68.17841712 219.03246701  10.90968883\n",
      "  15.64892292]\n",
      "[ 34.         482.          52.37110834 205.34299325   7.\n",
      "  15.        ]\n",
      "[ 13.78469384 315.73366962  43.34656481 198.91231      8.82342243\n",
      "  15.15036106]\n",
      "[107.         100.          52.37110834 205.34299325   7.\n",
      "  15.        ]\n"
     ]
    }
   ],
   "source": [
    "trainPredict_org = trainPredict*(max_value-min_value)\n",
    "trainY_org = trainY*(max_value-min_value)\n",
    "testPredict_org = testPredict*(max_value-min_value)\n",
    "testY_org = testY*(max_value-min_value)\n",
    "for i in range(10):\n",
    "  print(trainPredict_org[i])\n",
    "  print(trainY_org[i])"
   ]
  },
  {
   "cell_type": "code",
   "execution_count": 31,
   "metadata": {
    "colab": {
     "base_uri": "https://localhost:8080/",
     "height": 301
    },
    "executionInfo": {
     "elapsed": 928,
     "status": "ok",
     "timestamp": 1616606284930,
     "user": {
      "displayName": "万兜",
      "photoUrl": "",
      "userId": "15342960538383726613"
     },
     "user_tz": -480
    },
    "id": "MR2YybLrt62L",
    "outputId": "02ff535f-3ffb-4954-a779-487249af69c0"
   },
   "outputs": [
    {
     "name": "stdout",
     "output_type": "stream",
     "text": [
      "Train Score: 85.00 RMSE\n",
      "Test Score: 85.41 RMSE\n"
     ]
    },
    {
     "data": {
      "image/png": "[encoded data removed]",
      "text/plain": [
       "<Figure size 432x288 with 1 Axes>"
      ]
     },
     "metadata": {
      "needs_background": "light",
      "tags": []
     },
     "output_type": "display_data"
    }
   ],
   "source": [
    "# 计算RMSE误差\n",
    "trainScore = math.sqrt(mean_squared_error(trainY_org, trainPredict_org))\n",
    "print('Train Score: %.2f RMSE' % (trainScore))\n",
    "testScore = math.sqrt(mean_squared_error(testY_org, testPredict_org))\n",
    "print('Test Score: %.2f RMSE' % (testScore))\n",
    "\n",
    "# 构造一个和dataset格式相同的数组，共145行，dataset为总数据集，把预测的93行训练数据存进去\n",
    "trainPredictPlot = numpy.empty_like(dataset2)\n",
    "# 用nan填充数组\n",
    "trainPredictPlot[:, :] = numpy.nan\n",
    "# 将训练集预测的Y添加进数组，从第3位到第93+3位，共93行\n",
    "trainPredictPlot[look_back:len(trainPredict_org)+look_back, :] = trainPredict_org\n",
    "\n",
    "# 构造一个和dataset格式相同的数组，共145行，把预测的后44行测试数据数据放进去\n",
    "testPredictPlot = numpy.empty_like(dataset2)\n",
    "testPredictPlot[:, :] = numpy.nan\n",
    "# 将测试集预测的Y添加进数组，从第94+4位到最后，共44行\n",
    "testPredictPlot[len(trainPredict_org)+(look_back*2)+1:len(dataset2)-1, :] = testPredict_org\n",
    "\n",
    "# 画图\n",
    "plt.plot(dataset2*(max_value-min_value))\n",
    "plt.plot(trainPredictPlot)\n",
    "plt.plot(testPredictPlot)\n",
    "plt.show()"
   ]
  },
  {
   "cell_type": "code",
   "execution_count": 32,
   "metadata": {
    "colab": {
     "base_uri": "https://localhost:8080/",
     "height": 233
    },
    "executionInfo": {
     "elapsed": 962,
     "status": "error",
     "timestamp": 1616606287711,
     "user": {
      "displayName": "万兜",
      "photoUrl": "",
      "userId": "15342960538383726613"
     },
     "user_tz": -480
    },
    "id": "xdvQLM5z01OX",
    "outputId": "5c3ce2d9-1476-4df7-acfd-57f669dd58a7"
   },
   "outputs": [
    {
     "ename": "FileNotFoundError",
     "evalue": "ignored",
     "output_type": "error",
     "traceback": [
      "\u001b[0;31m---------------------------------------------------------------------------\u001b[0m",
      "\u001b[0;31mFileNotFoundError\u001b[0m                         Traceback (most recent call last)",
      "\u001b[0;32m<ipython-input-32-c9ab9c93c8a8>\u001b[0m in \u001b[0;36m<module>\u001b[0;34m()\u001b[0m\n\u001b[1;32m      2\u001b[0m \u001b[0mrules\u001b[0m \u001b[0;34m=\u001b[0m \u001b[0;34m{\u001b[0m\u001b[0;34m}\u001b[0m\u001b[0;34m\u001b[0m\u001b[0;34m\u001b[0m\u001b[0m\n\u001b[1;32m      3\u001b[0m \u001b[0mrules_count\u001b[0m \u001b[0;34m=\u001b[0m \u001b[0;34m{\u001b[0m\u001b[0;34m'Behavior'\u001b[0m\u001b[0;34m:\u001b[0m\u001b[0;34m[\u001b[0m\u001b[0;34m]\u001b[0m\u001b[0;34m,\u001b[0m\u001b[0;34m'Object_View'\u001b[0m\u001b[0;34m:\u001b[0m\u001b[0;34m[\u001b[0m\u001b[0;34m]\u001b[0m\u001b[0;34m,\u001b[0m \u001b[0;34m\"type\"\u001b[0m\u001b[0;34m:\u001b[0m\u001b[0;34m[\u001b[0m\u001b[0;34m]\u001b[0m\u001b[0;34m,\u001b[0m\u001b[0;34m'color'\u001b[0m\u001b[0;34m:\u001b[0m\u001b[0;34m[\u001b[0m\u001b[0;34m]\u001b[0m\u001b[0;34m}\u001b[0m\u001b[0;34m\u001b[0m\u001b[0;34m\u001b[0m\u001b[0m\n\u001b[0;32m----> 4\u001b[0;31m \u001b[0;32mwith\u001b[0m \u001b[0mopen\u001b[0m\u001b[0;34m(\u001b[0m\u001b[0mrulesfile\u001b[0m\u001b[0;34m,\u001b[0m \u001b[0;34m'r'\u001b[0m\u001b[0;34m)\u001b[0m \u001b[0;32mas\u001b[0m \u001b[0minputs\u001b[0m\u001b[0;34m:\u001b[0m\u001b[0;34m\u001b[0m\u001b[0;34m\u001b[0m\u001b[0m\n\u001b[0m\u001b[1;32m      5\u001b[0m     \u001b[0;32mfor\u001b[0m \u001b[0mline\u001b[0m \u001b[0;32min\u001b[0m \u001b[0minputs\u001b[0m\u001b[0;34m:\u001b[0m\u001b[0;34m\u001b[0m\u001b[0;34m\u001b[0m\u001b[0m\n\u001b[1;32m      6\u001b[0m         \u001b[0mline\u001b[0m \u001b[0;34m=\u001b[0m \u001b[0mline\u001b[0m\u001b[0;34m.\u001b[0m\u001b[0mstrip\u001b[0m\u001b[0;34m(\u001b[0m\u001b[0;34m)\u001b[0m\u001b[0;34m\u001b[0m\u001b[0;34m\u001b[0m\u001b[0m\n",
      "\u001b[0;31mFileNotFoundError\u001b[0m: [Errno 2] No such file or directory: 'res.txt'"
     ]
    }
   ],
   "source": [
    "rulesfile = 'res.txt'\n",
    "rules = {}\n",
    "rules_count = {'Behavior':[],'Object_View':[], \"type\":[],'color':[]}\n",
    "with open(rulesfile, 'r') as inputs:\n",
    "    for line in inputs:\n",
    "        line = line.strip()\n",
    "        res = line.split(\":\")\n",
    "        rules[int(res[1])] = res[0]\n",
    "        if res[0].startswith('Behavior'):\n",
    "          rules_count['Behavior'].append(int(res[1]))\n",
    "        elif res[0].startswith('Object_View'):\n",
    "          rules_count['Object_View'].append(int(res[1]))          \n",
    "        elif res[0].startswith('type'):\n",
    "          rules_count['type'].append(int(res[1]))  \n",
    "        elif res[0].startswith('color'):\n",
    "          rules_count['color'].append(int(res[1]))  "
   ]
  },
  {
   "cell_type": "code",
   "execution_count": null,
   "metadata": {
    "colab": {
     "base_uri": "https://localhost:8080/"
    },
    "executionInfo": {
     "elapsed": 795,
     "status": "ok",
     "timestamp": 1616577009230,
     "user": {
      "displayName": "Tiffany Li",
      "photoUrl": "",
      "userId": "09773556364012302263"
     },
     "user_tz": -480
    },
    "id": "q3IhkDN7pjTk",
    "outputId": "a6399417-1a16-4e24-9904-8c85300cb8eb"
   },
   "outputs": [
    {
     "data": {
      "text/plain": [
       "{0: 'Object_View -> \"Hist\"',\n",
       " 1: 'Object_View -> \"Map\"',\n",
       " 2: 'Behavior -> color',\n",
       " 3: 'type -> \"Zoom\"',\n",
       " 4: 'y_position1 -> None',\n",
       " 5: 'color -> \"1\"',\n",
       " 6: 'number -> None',\n",
       " 7: 'x_position1 -> None',\n",
       " 8: 'root -> Behavior \"+\" Object_View \"+\" type',\n",
       " 9: 'Object_View -> \"Force\"',\n",
       " 10: 'scale -> None',\n",
       " 11: 'y_position2 -> None',\n",
       " 12: 'color -> \"0\"',\n",
       " 13: 'Behavior -> x_position1 \"+\" x_position2 \"+\" y_position1 \"+\" y_position2',\n",
       " 14: 'type -> \"Filter\"',\n",
       " 15: 'color -> \"3\"',\n",
       " 16: 'type -> \"Click\"',\n",
       " 17: 'delta_y -> None',\n",
       " 18: 'type -> \"Brush\"',\n",
       " 19: 'color -> \"2\"',\n",
       " 20: 'Object_View -> \"Wordle\"',\n",
       " 21: 'x_position -> None',\n",
       " 22: 'color -> \"5\"',\n",
       " 23: 'Nothing -> None',\n",
       " 24: 'x_position2 -> None',\n",
       " 25: 'Behavior -> delta_x \"+\" delta_y \"+\" scale',\n",
       " 26: 'Behavior -> number',\n",
       " 27: 'Behavior -> x_position \"+\" y_position',\n",
       " 28: 'color -> \"4\"',\n",
       " 29: 'y_position -> None',\n",
       " 30: 'delta_x -> None'}"
      ]
     },
     "execution_count": 31,
     "metadata": {
      "tags": []
     },
     "output_type": "execute_result"
    }
   ],
   "source": [
    "rules"
   ]
  },
  {
   "cell_type": "code",
   "execution_count": null,
   "metadata": {
    "id": "RA0z2787TwtJ"
   },
   "outputs": [],
   "source": [
    "clean_res = []\n",
    "for i in trainPredict_org:\n",
    "  #i[0] = find_closed(rules['Behavior'],i[0])\n",
    "  i[-2] = find_closed(rules_count['Object_View'],i[-2])\n",
    "  i[-1] = find_closed(rules_count['type'],i[-1])\n",
    "  if i[-1] == list(rules.keys())[list(rules.values()).index('type -> \"Filter\"')]:\n",
    "    i[0] = find_closed(rules_count['color'],i[0])\n",
    "  clean_res.append(i)\n"
   ]
  },
  {
   "cell_type": "code",
   "execution_count": null,
   "metadata": {
    "colab": {
     "base_uri": "https://localhost:8080/"
    },
    "executionInfo": {
     "elapsed": 1006,
     "status": "ok",
     "timestamp": 1616577014286,
     "user": {
      "displayName": "Tiffany Li",
      "photoUrl": "",
      "userId": "09773556364012302263"
     },
     "user_tz": -480
    },
    "id": "lBAaorvg-8V0",
    "outputId": "f4e9ae12-7a9d-4fe6-b477-c5c3fc84fadc"
   },
   "outputs": [
    {
     "data": {
      "text/plain": [
       "{0: 'Object_View -> \"Hist\"',\n",
       " 1: 'Object_View -> \"Map\"',\n",
       " 2: 'Behavior -> color',\n",
       " 3: 'type -> \"Zoom\"',\n",
       " 4: 'y_position1 -> None',\n",
       " 5: 'color -> \"1\"',\n",
       " 6: 'number -> None',\n",
       " 7: 'x_position1 -> None',\n",
       " 8: 'root -> Behavior \"+\" Object_View \"+\" type',\n",
       " 9: 'Object_View -> \"Force\"',\n",
       " 10: 'scale -> None',\n",
       " 11: 'y_position2 -> None',\n",
       " 12: 'color -> \"0\"',\n",
       " 13: 'Behavior -> x_position1 \"+\" x_position2 \"+\" y_position1 \"+\" y_position2',\n",
       " 14: 'type -> \"Filter\"',\n",
       " 15: 'color -> \"3\"',\n",
       " 16: 'type -> \"Click\"',\n",
       " 17: 'delta_y -> None',\n",
       " 18: 'type -> \"Brush\"',\n",
       " 19: 'color -> \"2\"',\n",
       " 20: 'Object_View -> \"Wordle\"',\n",
       " 21: 'x_position -> None',\n",
       " 22: 'color -> \"5\"',\n",
       " 23: 'Nothing -> None',\n",
       " 24: 'x_position2 -> None',\n",
       " 25: 'Behavior -> delta_x \"+\" delta_y \"+\" scale',\n",
       " 26: 'Behavior -> number',\n",
       " 27: 'Behavior -> x_position \"+\" y_position',\n",
       " 28: 'color -> \"4\"',\n",
       " 29: 'y_position -> None',\n",
       " 30: 'delta_x -> None'}"
      ]
     },
     "execution_count": 33,
     "metadata": {
      "tags": []
     },
     "output_type": "execute_result"
    }
   ],
   "source": [
    "rules"
   ]
  },
  {
   "cell_type": "code",
   "execution_count": null,
   "metadata": {
    "colab": {
     "base_uri": "https://localhost:8080/"
    },
    "executionInfo": {
     "elapsed": 1187,
     "status": "ok",
     "timestamp": 1616577016945,
     "user": {
      "displayName": "Tiffany Li",
      "photoUrl": "",
      "userId": "09773556364012302263"
     },
     "user_tz": -480
    },
    "id": "sXGm-fDU36nl",
    "outputId": "d5ed8d44-af33-4db6-bb86-20c043c4e12e"
   },
   "outputs": [
    {
     "name": "stdout",
     "output_type": "stream",
     "text": [
      "[142.05428559 201.78852124  46.50685403 168.38999754]\n",
      "[148.73458785 222.05448148  69.80887292 191.49933055]\n",
      "[333.70711875 263.83539677  70.40314132 200.74102396]\n",
      "[161.54558784 236.28966199 100.19391096 237.88207245]\n",
      "[225.95853615 252.48012461  59.08208272 187.56408101]\n",
      "[117.82834393 238.9385324   74.09607232 207.95278785]\n",
      "[312.6357311  241.11419088  69.10826696 195.62664631]\n",
      "[219.3481341  240.51390529 145.2085788  292.62810087]\n",
      "[236.29815114 232.18978509 139.90778813 283.51862684]\n",
      "[215.793926   257.57105325 177.6101886  324.44783562]\n",
      "[225.69857192 239.38416937 181.38736403 330.97364372]\n",
      "[231.59497899 243.72566205 181.56622517 331.55510807]\n",
      "[218.03524399 248.72379036 113.87160212 263.01561445]\n",
      "[184.05520391 215.61427784  56.93411426 197.04593155]\n",
      "[137.92129442 240.71273524  87.85975108 227.84059003]\n",
      "[212.2043587  261.90447998  63.4819766  214.59739745]\n",
      "[161.67922971 205.62875257 145.07987058 259.25157833]\n",
      "[332.57995844 233.73441526 126.72273695 255.06896415]\n",
      "[329.62606072 241.69597222  69.84028897 195.94995224]\n",
      "[152.7526229  234.5116355   92.76991609 235.44472602]\n",
      "[109.62839198 243.39777684  79.94834572 218.32375157]\n",
      "[191.52212131 213.4910062   98.304959   235.34808937]\n",
      "[192.15456235 255.02754262 122.96883845 271.25953966]\n",
      "[186.75550604 215.77277802  62.60129969 197.61068916]\n",
      "[187.73017287 253.94589542  45.31434524 174.32461464]\n",
      "[182.50540271 222.63352765  96.3783685  238.70684284]\n",
      "[329.62606072 241.69597222  69.84028897 195.94995224]\n",
      "[151.90119362 231.35100962  95.50217092 230.89386392]\n",
      "[191.5220992  213.4910062   98.304959   235.34808937]\n",
      "[192.15458447 255.02754262 122.96883845 271.25953966]\n",
      "[186.75548393 215.77276406  62.60129969 197.61068916]\n",
      "[163.22937366 206.96583094  98.19734225 242.14627847]\n",
      "[175.32117099 266.22127242  92.59623241 236.55921394]\n",
      "[206.99162924 224.25897086 122.94993246 271.40204549]\n",
      "[172.21219254 233.46652232  92.9900322  233.05945912]\n",
      "[227.6607092  231.62106557  90.10562745 234.14079598]\n",
      "[163.55908331 261.75968355  92.6562286  234.56929311]\n",
      "[171.04605749 235.08161096  69.47985654 219.11516097]\n",
      "[184.64774147 243.38253805  94.3835603  238.65647772]\n",
      "[171.57874534 231.18872765  86.07304761 224.89201751]\n",
      "[194.19686043 229.50273398 101.28316525 241.84590712]\n",
      "[152.7526229  234.51166341  92.76991609 235.44472602]\n",
      "[191.52212131 213.4910062   98.304959   235.34808937]\n",
      "[192.15458447 255.02754262 122.96883845 271.25953966]\n",
      "[186.75550604 215.77276406  62.60129969 197.61068916]\n",
      "[187.73017287 253.94589542  45.31434524 174.32461464]\n",
      "[127.66589803 196.37466139  50.39144674 170.97728473]\n",
      "[161.54556572 236.28966199 100.19391096 237.88207245]\n",
      "[191.5220992  213.49099224  98.30495033 235.34808937]\n",
      "[192.15456235 255.02754262 122.96883845 271.25953966]\n",
      "[186.75550604 215.77277802  62.60129969 197.61067167]\n",
      "[187.73017287 253.94589542  45.31434524 174.32461464]\n",
      "[182.50540271 222.63352765  96.3783685  238.70684284]\n",
      "[191.20678532 234.72341563  62.58231997 195.38855347]\n",
      "[323.02501261 272.68352486  67.49067244 201.98864093]\n",
      "[184.26676208 262.92584185  99.96128047 251.11328167]\n",
      "[223.1094777  245.50530732 132.48601341 278.59465349]\n",
      "[206.44436872 251.69083335 140.9543218  290.08204696]\n",
      "[149.92667288 221.4822174   91.24514741 231.0379442 ]\n",
      "[161.54553255 236.28966199 100.19391096 237.88207245]\n",
      "[191.5220992  213.49099224  98.30495033 235.34808937]\n"
     ]
    }
   ],
   "source": [
    "# 填充为完整的数据\n",
    "full_res = []\n",
    "for predict in clean_res:\n",
    "  Type = predict[-1]\n",
    "  Object_View = predict[-2]\n",
    "  if rules[Type]=='type -> \"Brush\"':\n",
    "    Object_View = list(rules.keys())[list(rules.values()).index('Object_View -> \"Map\"')]\n",
    "    Behavior = list(rules.keys())[list(rules.values()).index('Behavior -> x_position1 \"+\" x_position2 \"+\" y_position1 \"+\" y_position2')]\n",
    "    save = predict[:4]\n",
    "    print(save)\n",
    "  elif rules[Type]=='type -> \"Filter\"':\n",
    "    Object_View = list(rules.keys())[list(rules.values()).index('Object_View -> \"Map\"')]\n",
    "    Behavior = list(rules.keys())[list(rules.values()).index('Behavior -> color')]\n",
    "    save = [predict[0]]\n",
    "  elif rules[Type]=='type -> \"Zoom\"':\n",
    "    Object_View = list(rules.keys())[list(rules.values()).index('Object_View -> \"Map\"')]\n",
    "    Behavior = list(rules.keys())[list(rules.values()).index('Behavior -> delta_x \"+\" delta_y \"+\" scale')]\n",
    "    save = predict[:3]\n",
    "  elif rules[Type]=='type -> \"Click\"':\n",
    "    if (rules[Object_View] == 'Object_View -> \"Hist\"'):\n",
    "      Behavior = list(rules.keys())[list(rules.values()).index('Behavior -> number')]\n",
    "      save = [predict[0]]\n",
    "    else:\n",
    "      Behavior = list(rules.keys())[list(rules.values()).index('Behavior -> x_position \"+\" y_position')]\n",
    "      save = predict[:2]\n",
    "  else:\n",
    "    print(predict)\n",
    "    full_res.append([])\n",
    "    continue\n",
    "  predict_full = [sequence[0][0],Behavior]\n",
    "  for value in save:\n",
    "    predict_full.append(int(value))\n",
    "  predict_full.append(Object_View)  \n",
    "  predict_full.append(Type) \n",
    "  full_res.append(predict_full)\n",
    "\n"
   ]
  },
  {
   "cell_type": "code",
   "execution_count": null,
   "metadata": {
    "colab": {
     "base_uri": "https://localhost:8080/"
    },
    "executionInfo": {
     "elapsed": 1112,
     "status": "ok",
     "timestamp": 1616480209204,
     "user": {
      "displayName": "Tiffany Li",
      "photoUrl": "",
      "userId": "09773556364012302263"
     },
     "user_tz": -480
    },
    "id": "ZDSSVaJWVGe9",
    "outputId": "85871e42-5bda-4ead-81bd-8a01a78d30e8"
   },
   "outputs": [
    {
     "name": "stdout",
     "output_type": "stream",
     "text": [
      "93 709 905\n"
     ]
    }
   ],
   "source": [
    "count_brush=0\n",
    "count_zoom=0\n",
    "count_Filter = 0\n",
    "for i in range(len(full_res)):\n",
    "  if full_res[i][-1]==list(rules.keys())[list(rules.values()).index('type -> \"Brush\"')]:\n",
    "    count_brush = count_brush+1\n",
    "  elif full_res[i][-1]==list(rules.keys())[list(rules.values()).index('type -> \"Zoom\"')]:\n",
    "    count_zoom= count_zoom+1\n",
    "  elif full_res[i][-1]==list(rules.keys())[list(rules.values()).index('type -> \"Filter\"')]:\n",
    "    count_Filter= count_Filter+1\n",
    "print(count_brush,count_zoom,count_Filter)\n"
   ]
  }
 ],
 "metadata": {
  "colab": {
   "authorship_tag": "ABX9TyMLnrK2lHECXO0dsamSGiit",
   "name": "LSTM_V3.ipynb",
   "provenance": []
  },
  "kernelspec": {
   "display_name": "Python 3 (ipykernel)",
   "language": "python",
   "name": "python3"
  },
  "language_info": {
   "codemirror_mode": {
    "name": "ipython",
    "version": 3
   },
   "file_extension": ".py",
   "mimetype": "text/x-python",
   "name": "python",
   "nbconvert_exporter": "python",
   "pygments_lexer": "ipython3",
   "version": "3.9.7"
  }
 },
 "nbformat": 4,
 "nbformat_minor": 1
}
