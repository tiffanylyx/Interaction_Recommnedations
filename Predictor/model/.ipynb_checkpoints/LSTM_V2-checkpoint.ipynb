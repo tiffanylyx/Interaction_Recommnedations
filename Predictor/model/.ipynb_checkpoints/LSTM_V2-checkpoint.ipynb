{
 "cells": [
  {
   "cell_type": "code",
   "execution_count": null,
   "metadata": {
    "id": "MVgYbg7TVWwp"
   },
   "outputs": [],
   "source": []
  },
  {
   "cell_type": "code",
   "execution_count": 3,
   "metadata": {
    "executionInfo": {
     "elapsed": 2619,
     "status": "ok",
     "timestamp": 1616604025295,
     "user": {
      "displayName": "万兜",
      "photoUrl": "",
      "userId": "15342960538383726613"
     },
     "user_tz": -480
    },
    "id": "OrkI8pHysTGH"
   },
   "outputs": [],
   "source": [
    "# LSTM for international airline passengers problem with memory\n",
    "import numpy\n",
    "import matplotlib.pyplot as plt\n",
    "from pandas import read_csv\n",
    "import math\n",
    "from keras.models import Sequential\n",
    "from keras.layers import Dense, Bidirectional, Dropout\n",
    "from keras.layers import LSTM\n",
    "from sklearn.preprocessing import MinMaxScaler\n",
    "from sklearn.metrics import mean_squared_error\n",
    "from sklearn.preprocessing import normalize\n",
    "from keras.models import load_model"
   ]
  },
  {
   "cell_type": "markdown",
   "metadata": {
    "id": "NYOmrSeM0IRe"
   },
   "source": [
    "Record the result \n",
    "\n",
    "https://shimo.im/docs/89HGjyWXqHjv6kt9"
   ]
  },
  {
   "cell_type": "code",
   "execution_count": 14,
   "metadata": {
    "colab": {
     "base_uri": "https://localhost:8080/"
    },
    "executionInfo": {
     "elapsed": 442,
     "status": "ok",
     "timestamp": 1616604056125,
     "user": {
      "displayName": "万兜",
      "photoUrl": "",
      "userId": "15342960538383726613"
     },
     "user_tz": -480
    },
    "id": "QlnQAImML4NX",
    "outputId": "5314ded6-429a-461c-9fd4-f928bfbe30dd"
   },
   "outputs": [
    {
     "name": "stdout",
     "output_type": "stream",
     "text": [
      "Drive already mounted at /content/drive/; to attempt to forcibly remount, call drive.mount(\"/content/drive/\", force_remount=True).\n",
      "/content/drive/My Drive/Museum_vis\n"
     ]
    }
   ],
   "source": [
    "from google.colab import drive\n",
    "drive.mount('/content/drive/')\n",
    "%cd /content/drive/My Drive/Museum_vis"
   ]
  },
  {
   "cell_type": "code",
   "execution_count": 15,
   "metadata": {
    "executionInfo": {
     "elapsed": 652,
     "status": "ok",
     "timestamp": 1616604057924,
     "user": {
      "displayName": "万兜",
      "photoUrl": "",
      "userId": "15342960538383726613"
     },
     "user_tz": -480
    },
    "id": "DcqXnkbkvZx-"
   },
   "outputs": [],
   "source": [
    "\"\"\"\n",
    "之前是网络训练100个周期\n",
    "model.fit(trainX, trainY, epochs=100, batch_size=1, verbose=2)\n",
    "\n",
    "每次网络训练1个周期，循环执行100次，每次循环重置网络状态\n",
    "for i in range(100):\n",
    "\tmodel.fit(trainX, trainY, epochs=1, batch_size=batch_size, verbose=2, shuffle=False)\n",
    "\tmodel.reset_states()\n",
    "\n",
    "model.add(LSTM(4, batch_input_shape=(batch_size, time_steps, features), stateful=True))\n",
    "model.predict(trainX, batch_size=batch_size)\n",
    "\"\"\"\n",
    "# 将数据截取成3个一组的监督学习格式\n",
    "def create_dataset(dataset, look_back=1):\n",
    "\tdataX, dataY = [], []\n",
    "\tfor i in range(len(dataset)-look_back-1):\n",
    "\t\ta = dataset[i:(i+look_back), :]\n",
    "\t\tdataX.append(a)\n",
    "\t\tdataY.append(dataset[i + look_back, :])\n",
    "\treturn numpy.array(dataX), numpy.array(dataY)\n"
   ]
  },
  {
   "cell_type": "code",
   "execution_count": 16,
   "metadata": {
    "executionInfo": {
     "elapsed": 1041,
     "status": "ok",
     "timestamp": 1616604059991,
     "user": {
      "displayName": "万兜",
      "photoUrl": "",
      "userId": "15342960538383726613"
     },
     "user_tz": -480
    },
    "id": "QxrrevUDXzEp"
   },
   "outputs": [],
   "source": [
    "f = numpy.load('test.npy', allow_pickle=True)\n",
    "sequence = []\n",
    "for i in f:\n",
    "  for j in i:\n",
    "    sequence.append(j)"
   ]
  },
  {
   "cell_type": "code",
   "execution_count": 17,
   "metadata": {
    "executionInfo": {
     "elapsed": 361,
     "status": "ok",
     "timestamp": 1616604060985,
     "user": {
      "displayName": "万兜",
      "photoUrl": "",
      "userId": "15342960538383726613"
     },
     "user_tz": -480
    },
    "id": "aEjWBlHKXs4l"
   },
   "outputs": [],
   "source": [
    "value_6 = []\n",
    "value_7 = []\n",
    "value_8 = []\n",
    "for i in sequence:\n",
    "  if len(i) == 8:\n",
    "    value_6.append(i[5])\n",
    "  if len(i) >= 7:\n",
    "    value_7.append(i[4])\n",
    "  elif len(i) >= 6:\n",
    "    value_8.append(i[3])\n",
    "compute_mean = [numpy.mean(value_6),numpy.mean(value_7),numpy.mean(value_8)]"
   ]
  },
  {
   "cell_type": "code",
   "execution_count": 18,
   "metadata": {
    "colab": {
     "base_uri": "https://localhost:8080/"
    },
    "executionInfo": {
     "elapsed": 918,
     "status": "ok",
     "timestamp": 1616604064205,
     "user": {
      "displayName": "万兜",
      "photoUrl": "",
      "userId": "15342960538383726613"
     },
     "user_tz": -480
    },
    "id": "RO_HvlTlYtO_",
    "outputId": "e60d290c-d377-4c05-f365-6a5e8456c59b"
   },
   "outputs": [
    {
     "data": {
      "text/plain": [
       "[349.40776699029124, 52.371108343711086, 205.34299325129018]"
      ]
     },
     "execution_count": 18,
     "metadata": {
      "tags": []
     },
     "output_type": "execute_result"
    }
   ],
   "source": [
    "compute_mean"
   ]
  },
  {
   "cell_type": "code",
   "execution_count": 19,
   "metadata": {
    "colab": {
     "base_uri": "https://localhost:8080/"
    },
    "executionInfo": {
     "elapsed": 468,
     "status": "ok",
     "timestamp": 1616604065115,
     "user": {
      "displayName": "万兜",
      "photoUrl": "",
      "userId": "15342960538383726613"
     },
     "user_tz": -480
    },
    "id": "ikDuhBDj3jyw",
    "outputId": "1968cc0e-f122-4a64-c9c2-97b020b5dc0b"
   },
   "outputs": [
    {
     "name": "stdout",
     "output_type": "stream",
     "text": [
      "[[ 50.         349.          52.37110834 205.34299325   7.\n",
      "   15.        ]\n",
      " [ 50.         332.          52.37110834 205.34299325   7.\n",
      "   15.        ]\n",
      " [ 50.         349.          52.37110834 205.34299325   7.\n",
      "   15.        ]\n",
      " [105.          17.          52.37110834 205.34299325   7.\n",
      "   15.        ]\n",
      " [ 93.          50.          52.37110834 205.34299325   7.\n",
      "   15.        ]]\n"
     ]
    }
   ],
   "source": [
    "count = 0\n",
    "sequence2 = []\n",
    "max_len = 8\n",
    "for i in sequence:\n",
    "  # print(i)\n",
    "  if len(i)==5:\n",
    "    i[3:3] = compute_mean\n",
    "  elif len(i)==6:\n",
    "    i[4:4] = compute_mean[1:]\n",
    "  elif len(i)==7:\n",
    "    i[5:5] = compute_mean[2:]\n",
    "  # print(i,\"\\n\")\n",
    "  sequence2.append(numpy.array(i[2:]))\n",
    "dataset2 = numpy.array(sequence2)\n",
    "print(dataset2[:5])\n",
    "max_value = dataset2.max(axis=0)\n",
    "min_value = dataset2.min(axis=0)\n",
    "dataset2 = dataset2/(dataset2.max(axis=0)-dataset2.min(axis=0))\n",
    "# print(dataset2[:5]*(max_value-min_value))\n",
    "# dataset2 = dataset2.reshape([len(dataset2),8])\n"
   ]
  },
  {
   "cell_type": "code",
   "execution_count": 20,
   "metadata": {
    "colab": {
     "base_uri": "https://localhost:8080/"
    },
    "executionInfo": {
     "elapsed": 608,
     "status": "ok",
     "timestamp": 1616604066613,
     "user": {
      "displayName": "万兜",
      "photoUrl": "",
      "userId": "15342960538383726613"
     },
     "user_tz": -480
    },
    "id": "l_JxN3tEvEmQ",
    "outputId": "37756e2e-b02c-4af9-8bea-813a4a53a71e"
   },
   "outputs": [
    {
     "data": {
      "text/plain": [
       "array([487., 679., 581., 640.,  22.,  30.])"
      ]
     },
     "execution_count": 20,
     "metadata": {
      "tags": []
     },
     "output_type": "execute_result"
    }
   ],
   "source": [
    "max_value"
   ]
  },
  {
   "cell_type": "code",
   "execution_count": 21,
   "metadata": {
    "colab": {
     "base_uri": "https://localhost:8080/"
    },
    "executionInfo": {
     "elapsed": 366,
     "status": "ok",
     "timestamp": 1616604067567,
     "user": {
      "displayName": "万兜",
      "photoUrl": "",
      "userId": "15342960538383726613"
     },
     "user_tz": -480
    },
    "id": "U_FsBl62wVWH",
    "outputId": "7d2103cb-ba4e-41c5-e38b-d43e7daf1532"
   },
   "outputs": [
    {
     "name": "stdout",
     "output_type": "stream",
     "text": [
      "[0.03369272 0.18633209 0.08998472 0.34981771 0.41176471 0.625     ]\n",
      "[0.00067385 0.1865498  0.08998472 0.34981771 0.29411765 0.625     ]\n"
     ]
    }
   ],
   "source": [
    "# 分割2/3数据作为测试\n",
    "train_size = int(len(dataset2) * 0.8)\n",
    "test_size = len(dataset2) - train_size\n",
    "train, test = dataset2[0:train_size,:], dataset2[train_size:len(dataset2),:]\n",
    "print(train[0])\n",
    "print(test[0])\n",
    "# 预测数据步长为3,三个预测一个，3->1\n",
    "look_back = 3\n",
    "trainX, trainY = create_dataset(train, look_back)\n",
    "testX, testY = create_dataset(test, look_back)\n",
    "\n",
    "# 重构输入数据格式 [samples, time steps, features] = [93,3,1]\n",
    "#trainX = numpy.reshape(trainX, (trainX.shape[0], trainX.shape[1], 1))\n",
    "#testX = numpy.reshape(testX, (testX.shape[0], testX.shape[1], 1))\n"
   ]
  },
  {
   "cell_type": "code",
   "execution_count": 22,
   "metadata": {
    "executionInfo": {
     "elapsed": 653,
     "status": "ok",
     "timestamp": 1616604069078,
     "user": {
      "displayName": "万兜",
      "photoUrl": "",
      "userId": "15342960538383726613"
     },
     "user_tz": -480
    },
    "id": "zrAaMMlITqoZ"
   },
   "outputs": [],
   "source": [
    "numpy.save('testX.npy',testX)"
   ]
  },
  {
   "cell_type": "code",
   "execution_count": 23,
   "metadata": {
    "colab": {
     "base_uri": "https://localhost:8080/"
    },
    "executionInfo": {
     "elapsed": 605,
     "status": "ok",
     "timestamp": 1616604070461,
     "user": {
      "displayName": "万兜",
      "photoUrl": "",
      "userId": "15342960538383726613"
     },
     "user_tz": -480
    },
    "id": "en5NXRvQuFz8",
    "outputId": "22622809-88f1-431b-a4a9-3b85025531ee"
   },
   "outputs": [
    {
     "name": "stdout",
     "output_type": "stream",
     "text": [
      "4159\n",
      "3\n",
      "(4159, 3, 6)\n",
      "(3, 6)\n",
      "[[0.03369272 0.18633209 0.08998472 0.34981771 0.41176471 0.625     ]\n",
      " [0.03369272 0.17725574 0.08998472 0.34981771 0.41176471 0.625     ]\n",
      " [0.03369272 0.18633209 0.08998472 0.34981771 0.41176471 0.625     ]]\n"
     ]
    }
   ],
   "source": [
    "print(len(trainX))\n",
    "print(len(trainX[0]))\n",
    "print(trainX.shape)\n",
    "print(trainX[0].shape)\n",
    "print(trainX[0])"
   ]
  },
  {
   "cell_type": "code",
   "execution_count": 23,
   "metadata": {
    "executionInfo": {
     "elapsed": 617,
     "status": "ok",
     "timestamp": 1616604074832,
     "user": {
      "displayName": "万兜",
      "photoUrl": "",
      "userId": "15342960538383726613"
     },
     "user_tz": -480
    },
    "id": "euJZJCay-QZh"
   },
   "outputs": [],
   "source": []
  },
  {
   "cell_type": "code",
   "execution_count": 24,
   "metadata": {
    "executionInfo": {
     "elapsed": 5841,
     "status": "ok",
     "timestamp": 1616604081376,
     "user": {
      "displayName": "万兜",
      "photoUrl": "",
      "userId": "15342960538383726613"
     },
     "user_tz": -480
    },
    "id": "vUNRU5DNuoMn"
   },
   "outputs": [],
   "source": [
    "\n",
    "output_size = trainX[0].shape[1]\n",
    "batch_size = 1\n",
    "model = Sequential()\n",
    "model.add(Bidirectional(LSTM(100, batch_input_shape=(batch_size, look_back, output_size), stateful=True)))\n",
    "model.add(Dropout(0.2))\n",
    "model.add(Dense(output_size))\n",
    "model.compile(loss='mean_squared_error', optimizer='adam')"
   ]
  },
  {
   "cell_type": "code",
   "execution_count": 25,
   "metadata": {
    "colab": {
     "base_uri": "https://localhost:8080/",
     "height": 1000
    },
    "executionInfo": {
     "elapsed": 1302120,
     "status": "ok",
     "timestamp": 1616605385909,
     "user": {
      "displayName": "万兜",
      "photoUrl": "",
      "userId": "15342960538383726613"
     },
     "user_tz": -480
    },
    "id": "BAWShwoPwFBY",
    "outputId": "5a8dfc03-ef78-440f-c5e2-4022a961b937"
   },
   "outputs": [
    {
     "name": "stdout",
     "output_type": "stream",
     "text": [
      "4159/4159 - 46s - loss: 0.0311\n",
      "4159/4159 - 13s - loss: 0.0258\n",
      "4159/4159 - 13s - loss: 0.0251\n",
      "4159/4159 - 13s - loss: 0.0247\n",
      "4159/4159 - 13s - loss: 0.0245\n",
      "4159/4159 - 13s - loss: 0.0242\n",
      "4159/4159 - 13s - loss: 0.0239\n",
      "4159/4159 - 13s - loss: 0.0238\n",
      "4159/4159 - 13s - loss: 0.0235\n",
      "4159/4159 - 13s - loss: 0.0233\n",
      "4159/4159 - 13s - loss: 0.0232\n",
      "4159/4159 - 13s - loss: 0.0231\n",
      "4159/4159 - 13s - loss: 0.0230\n",
      "4159/4159 - 13s - loss: 0.0228\n",
      "4159/4159 - 13s - loss: 0.0227\n",
      "4159/4159 - 13s - loss: 0.0226\n",
      "4159/4159 - 13s - loss: 0.0224\n",
      "4159/4159 - 13s - loss: 0.0223\n",
      "4159/4159 - 13s - loss: 0.0222\n",
      "4159/4159 - 13s - loss: 0.0222\n",
      "4159/4159 - 13s - loss: 0.0220\n",
      "4159/4159 - 13s - loss: 0.0218\n",
      "4159/4159 - 13s - loss: 0.0218\n",
      "4159/4159 - 13s - loss: 0.0217\n",
      "4159/4159 - 13s - loss: 0.0217\n",
      "4159/4159 - 13s - loss: 0.0214\n",
      "4159/4159 - 13s - loss: 0.0214\n",
      "4159/4159 - 13s - loss: 0.0213\n",
      "4159/4159 - 13s - loss: 0.0212\n",
      "4159/4159 - 13s - loss: 0.0211\n",
      "4159/4159 - 13s - loss: 0.0211\n",
      "4159/4159 - 13s - loss: 0.0211\n",
      "4159/4159 - 13s - loss: 0.0209\n",
      "4159/4159 - 13s - loss: 0.0208\n",
      "4159/4159 - 13s - loss: 0.0206\n",
      "4159/4159 - 13s - loss: 0.0206\n",
      "4159/4159 - 13s - loss: 0.0205\n",
      "4159/4159 - 13s - loss: 0.0203\n",
      "4159/4159 - 13s - loss: 0.0203\n",
      "4159/4159 - 13s - loss: 0.0202\n",
      "4159/4159 - 13s - loss: 0.0201\n",
      "4159/4159 - 13s - loss: 0.0200\n",
      "4159/4159 - 13s - loss: 0.0198\n",
      "4159/4159 - 13s - loss: 0.0200\n",
      "4159/4159 - 13s - loss: 0.0195\n",
      "4159/4159 - 13s - loss: 0.0196\n",
      "4159/4159 - 13s - loss: 0.0195\n",
      "4159/4159 - 13s - loss: 0.0194\n",
      "4159/4159 - 13s - loss: 0.0193\n",
      "4159/4159 - 13s - loss: 0.0192\n",
      "4159/4159 - 13s - loss: 0.0192\n",
      "4159/4159 - 13s - loss: 0.0193\n",
      "4159/4159 - 13s - loss: 0.0191\n",
      "4159/4159 - 13s - loss: 0.0190\n",
      "4159/4159 - 13s - loss: 0.0188\n",
      "4159/4159 - 13s - loss: 0.0187\n",
      "4159/4159 - 12s - loss: 0.0185\n",
      "4159/4159 - 13s - loss: 0.0186\n",
      "4159/4159 - 13s - loss: 0.0184\n",
      "4159/4159 - 13s - loss: 0.0183\n",
      "4159/4159 - 13s - loss: 0.0186\n",
      "4159/4159 - 13s - loss: 0.0183\n",
      "4159/4159 - 13s - loss: 0.0180\n",
      "4159/4159 - 13s - loss: 0.0181\n",
      "4159/4159 - 13s - loss: 0.0180\n",
      "4159/4159 - 13s - loss: 0.0179\n",
      "4159/4159 - 13s - loss: 0.0181\n",
      "4159/4159 - 13s - loss: 0.0179\n",
      "4159/4159 - 13s - loss: 0.0180\n",
      "4159/4159 - 13s - loss: 0.0180\n",
      "4159/4159 - 13s - loss: 0.0179\n",
      "4159/4159 - 13s - loss: 0.0178\n",
      "4159/4159 - 13s - loss: 0.0180\n",
      "4159/4159 - 13s - loss: 0.0177\n",
      "4159/4159 - 13s - loss: 0.0177\n",
      "4159/4159 - 13s - loss: 0.0178\n",
      "4159/4159 - 13s - loss: 0.0178\n",
      "4159/4159 - 13s - loss: 0.0176\n",
      "4159/4159 - 13s - loss: 0.0173\n",
      "4159/4159 - 13s - loss: 0.0173\n",
      "4159/4159 - 13s - loss: 0.0176\n",
      "4159/4159 - 13s - loss: 0.0174\n",
      "4159/4159 - 13s - loss: 0.0173\n",
      "4159/4159 - 13s - loss: 0.0173\n",
      "4159/4159 - 13s - loss: 0.0172\n",
      "4159/4159 - 13s - loss: 0.0171\n",
      "4159/4159 - 13s - loss: 0.0171\n",
      "4159/4159 - 13s - loss: 0.0171\n",
      "4159/4159 - 13s - loss: 0.0172\n",
      "4159/4159 - 13s - loss: 0.0170\n",
      "4159/4159 - 13s - loss: 0.0171\n",
      "4159/4159 - 13s - loss: 0.0169\n",
      "4159/4159 - 13s - loss: 0.0171\n",
      "4159/4159 - 12s - loss: 0.0170\n",
      "4159/4159 - 13s - loss: 0.0169\n",
      "4159/4159 - 13s - loss: 0.0167\n",
      "4159/4159 - 13s - loss: 0.0170\n",
      "4159/4159 - 13s - loss: 0.0165\n",
      "4159/4159 - 13s - loss: 0.0164\n",
      "4159/4159 - 13s - loss: 0.0166\n"
     ]
    },
    {
     "data": {
      "application/vnd.google.colaboratory.intrinsic+json": {
       "type": "string"
      },
      "text/plain": [
       "'\\n# 对数据进行逆缩放\\ntrainPredict = scaler.inverse_transform(trainPredict)\\ntrainY = scaler.inverse_transform([trainY])\\ntestPredict = scaler.inverse_transform(testPredict)\\ntestY = scaler.inverse_transform([testY])\\n\\n'"
      ]
     },
     "execution_count": 25,
     "metadata": {
      "tags": []
     },
     "output_type": "execute_result"
    }
   ],
   "source": [
    "\n",
    "# 网络训练一个周期，循环训练100次\n",
    "for i in range(100):\n",
    "    #shuffle=False训练时不打数据乱顺序\n",
    "\tmodel.fit(trainX, trainY, epochs=1, batch_size=batch_size, verbose=2, shuffle=False)\n",
    "    # 每次训练完都重置网络状态\n",
    "\tmodel.reset_states()\n",
    "\n",
    "'''\n",
    "# 对数据进行逆缩放\n",
    "trainPredict = scaler.inverse_transform(trainPredict)\n",
    "trainY = scaler.inverse_transform([trainY])\n",
    "testPredict = scaler.inverse_transform(testPredict)\n",
    "testY = scaler.inverse_transform([testY])\n",
    "\n",
    "'''"
   ]
  },
  {
   "cell_type": "code",
   "execution_count": 26,
   "metadata": {
    "executionInfo": {
     "elapsed": 793,
     "status": "ok",
     "timestamp": 1616605403956,
     "user": {
      "displayName": "万兜",
      "photoUrl": "",
      "userId": "15342960538383726613"
     },
     "user_tz": -480
    },
    "id": "tUNummQhJMU3"
   },
   "outputs": [],
   "source": [
    "model.save('LSTM_V2.h5')"
   ]
  },
  {
   "cell_type": "code",
   "execution_count": 27,
   "metadata": {
    "executionInfo": {
     "elapsed": 1081,
     "status": "ok",
     "timestamp": 1616605405571,
     "user": {
      "displayName": "万兜",
      "photoUrl": "",
      "userId": "15342960538383726613"
     },
     "user_tz": -480
    },
    "id": "RIjx-TtVW8W4"
   },
   "outputs": [],
   "source": [
    "model = load_model('LSTM_V2.h5')"
   ]
  },
  {
   "cell_type": "code",
   "execution_count": 28,
   "metadata": {
    "executionInfo": {
     "elapsed": 9063,
     "status": "ok",
     "timestamp": 1616605415396,
     "user": {
      "displayName": "万兜",
      "photoUrl": "",
      "userId": "15342960538383726613"
     },
     "user_tz": -480
    },
    "id": "rDzI6BKXpXTR"
   },
   "outputs": [],
   "source": [
    "batch_size = 1\n",
    "# 对训练数据的Y进行预测\n",
    "trainPredict = model.predict(trainX, batch_size=batch_size)\n",
    "# 重置网络状态\n",
    "model.reset_states()\n",
    "# 对测试数据的Y进行预测\n",
    "testPredict = model.predict(testX, batch_size=batch_size)"
   ]
  },
  {
   "cell_type": "code",
   "execution_count": 29,
   "metadata": {
    "colab": {
     "base_uri": "https://localhost:8080/"
    },
    "executionInfo": {
     "elapsed": 642,
     "status": "ok",
     "timestamp": 1616605418429,
     "user": {
      "displayName": "万兜",
      "photoUrl": "",
      "userId": "15342960538383726613"
     },
     "user_tz": -480
    },
    "id": "BUL5ZiDa3EPP",
    "outputId": "c9e494e1-dd68-4347-b8ad-0962f764ea35"
   },
   "outputs": [
    {
     "name": "stdout",
     "output_type": "stream",
     "text": [
      "[[0.02528604 0.14501548 0.07469349 0.3257805  0.596076   0.6208211 ]\n",
      " [0.03151599 0.06608628 0.10046899 0.36000463 0.5094222  0.68434477]\n",
      " [0.061042   0.06197853 0.06053688 0.31389678 0.6219826  0.70983976]\n",
      " [0.0220639  0.05005032 0.04268669 0.31908798 0.4806491  0.6339768 ]\n",
      " [0.03971339 0.12019509 0.07875874 0.32788643 0.5414349  0.7181189 ]]\n",
      "[[0.07075472 0.00907635 0.08998472 0.34981771 0.41176471 0.625     ]\n",
      " [0.06266846 0.02669514 0.08998472 0.34981771 0.41176471 0.625     ]\n",
      " [0.15431267 0.00907635 0.08998472 0.34981771 0.41176471 0.625     ]\n",
      " [0.03638814 0.10624666 0.08998472 0.34981771 0.41176471 0.625     ]\n",
      " [0.03638814 0.11532301 0.08998472 0.34981771 0.41176471 0.625     ]]\n"
     ]
    }
   ],
   "source": [
    "print(trainPredict[:5])\n",
    "print(trainY[:5])"
   ]
  },
  {
   "cell_type": "code",
   "execution_count": 30,
   "metadata": {
    "executionInfo": {
     "elapsed": 663,
     "status": "ok",
     "timestamp": 1616605421620,
     "user": {
      "displayName": "万兜",
      "photoUrl": "",
      "userId": "15342960538383726613"
     },
     "user_tz": -480
    },
    "id": "6LLZQ-eAT9cL"
   },
   "outputs": [],
   "source": [
    "def find_closed(number_list, value):\n",
    "  min_value = 10000\n",
    "  closest = 0\n",
    "  for i in number_list:\n",
    "    a = abs(i-value)\n",
    "    if a<min_value:\n",
    "      closest = i\n",
    "      min_value = a\n",
    "  return closest\n"
   ]
  },
  {
   "cell_type": "code",
   "execution_count": 31,
   "metadata": {
    "colab": {
     "base_uri": "https://localhost:8080/"
    },
    "executionInfo": {
     "elapsed": 595,
     "status": "ok",
     "timestamp": 1616605424323,
     "user": {
      "displayName": "万兜",
      "photoUrl": "",
      "userId": "15342960538383726613"
     },
     "user_tz": -480
    },
    "id": "nmZCWKwyo1so",
    "outputId": "431d29c1-ee9b-42b7-ce9d-382cb25874f9"
   },
   "outputs": [
    {
     "name": "stdout",
     "output_type": "stream",
     "text": [
      "[ 37.52448514 271.61399055  43.47160891 191.2331599   10.1332922\n",
      "  14.89970684]\n",
      "[105.          17.          52.37110834 205.34299325   7.\n",
      "  15.        ]\n",
      "[ 46.76972282 123.77959751  58.4729497  211.32271996   8.66017711\n",
      "  16.42427444]\n",
      "[ 93.          50.          52.37110834 205.34299325   7.\n",
      "  15.        ]\n",
      "[ 90.58632189 116.08579393  35.23246202 184.25740707  10.57370377\n",
      "  17.03615427]\n",
      "[229.          17.          52.37110834 205.34299325   7.\n",
      "  15.        ]\n",
      "[ 32.74283281  93.74425304  24.84365121 187.30464554   8.17103493\n",
      "  15.21544361]\n",
      "[ 54.         199.          52.37110834 205.34299325   7.\n",
      "  15.        ]\n",
      "[ 58.93467101 225.12540501  45.83758606 192.46933582   9.20439303\n",
      "  17.23485374]\n",
      "[ 54.         216.          52.37110834 205.34299325   7.\n",
      "  15.        ]\n",
      "[ 49.61085364 257.26731008  49.67928471 202.28771773   7.98833314\n",
      "  15.80160141]\n",
      "[ 74.          83.          52.37110834 205.34299325   7.\n",
      "  15.        ]\n",
      "[ 90.99643005 146.17115986  49.80578578 197.83858302   9.59505463\n",
      "  16.44444752]\n",
      "[ 39.         365.          52.37110834 205.34299325   7.\n",
      "  15.        ]\n",
      "[ 56.87063001 306.83812265  46.82199445 198.32398802   9.01266342\n",
      "  15.82996845]\n",
      "[ 36.         449.          52.37110834 205.34299325   7.\n",
      "  15.        ]\n",
      "[ 67.47283518 344.02091396  94.26188546 245.47261563  12.89585948\n",
      "  17.4932127 ]\n",
      "[ 34.         482.          52.37110834 205.34299325   7.\n",
      "  15.        ]\n",
      "[ 69.51403312 363.00169423  53.62876488 207.48533165   9.93893921\n",
      "  16.05294371]\n",
      "[107.         100.          52.37110834 205.34299325   7.\n",
      "  15.        ]\n"
     ]
    }
   ],
   "source": [
    "trainPredict_org = trainPredict*(max_value-min_value)\n",
    "trainY_org = trainY*(max_value-min_value)\n",
    "testPredict_org = testPredict*(max_value-min_value)\n",
    "testY_org = testY*(max_value-min_value)\n",
    "for i in range(10):\n",
    "  print(trainPredict_org[i])\n",
    "  print(trainY_org[i])"
   ]
  },
  {
   "cell_type": "code",
   "execution_count": 32,
   "metadata": {
    "colab": {
     "base_uri": "https://localhost:8080/",
     "height": 298
    },
    "executionInfo": {
     "elapsed": 770,
     "status": "ok",
     "timestamp": 1616605429361,
     "user": {
      "displayName": "万兜",
      "photoUrl": "",
      "userId": "15342960538383726613"
     },
     "user_tz": -480
    },
    "id": "MR2YybLrt62L",
    "outputId": "88331345-a8a4-47ce-fcc1-6e29386e55b6"
   },
   "outputs": [
    {
     "name": "stdout",
     "output_type": "stream",
     "text": [
      "Train Score: 81.55 RMSE\n",
      "Test Score: 80.49 RMSE\n"
     ]
    },
    {
     "data": {
      "image/png": "[encoded data removed]",
      "text/plain": [
       "<Figure size 432x288 with 1 Axes>"
      ]
     },
     "metadata": {
      "needs_background": "light",
      "tags": []
     },
     "output_type": "display_data"
    }
   ],
   "source": [
    "# 计算RMSE误差\n",
    "trainScore = math.sqrt(mean_squared_error(trainY_org, trainPredict_org))\n",
    "print('Train Score: %.2f RMSE' % (trainScore))\n",
    "testScore = math.sqrt(mean_squared_error(testY_org, testPredict_org))\n",
    "print('Test Score: %.2f RMSE' % (testScore))\n",
    "\n",
    "# 构造一个和dataset格式相同的数组，共145行，dataset为总数据集，把预测的93行训练数据存进去\n",
    "trainPredictPlot = numpy.empty_like(dataset2)\n",
    "# 用nan填充数组\n",
    "trainPredictPlot[:, :] = numpy.nan\n",
    "# 将训练集预测的Y添加进数组，从第3位到第93+3位，共93行\n",
    "trainPredictPlot[look_back:len(trainPredict_org)+look_back, :] = trainPredict_org\n",
    "\n",
    "# 构造一个和dataset格式相同的数组，共145行，把预测的后44行测试数据数据放进去\n",
    "testPredictPlot = numpy.empty_like(dataset2)\n",
    "testPredictPlot[:, :] = numpy.nan\n",
    "# 将测试集预测的Y添加进数组，从第94+4位到最后，共44行\n",
    "testPredictPlot[len(trainPredict_org)+(look_back*2)+1:len(dataset2)-1, :] = testPredict_org\n",
    "\n",
    "# 画图\n",
    "plt.plot(dataset2*(max_value-min_value))\n",
    "plt.plot(trainPredictPlot)\n",
    "plt.plot(testPredictPlot)\n",
    "plt.show()"
   ]
  },
  {
   "cell_type": "code",
   "execution_count": 33,
   "metadata": {
    "colab": {
     "base_uri": "https://localhost:8080/",
     "height": 233
    },
    "executionInfo": {
     "elapsed": 609,
     "status": "error",
     "timestamp": 1616605433074,
     "user": {
      "displayName": "万兜",
      "photoUrl": "",
      "userId": "15342960538383726613"
     },
     "user_tz": -480
    },
    "id": "xdvQLM5z01OX",
    "outputId": "6737f3a3-7e8a-4cd1-f07a-5a69c28fbe92"
   },
   "outputs": [
    {
     "ename": "FileNotFoundError",
     "evalue": "ignored",
     "output_type": "error",
     "traceback": [
      "\u001b[0;31m---------------------------------------------------------------------------\u001b[0m",
      "\u001b[0;31mFileNotFoundError\u001b[0m                         Traceback (most recent call last)",
      "\u001b[0;32m<ipython-input-33-c9ab9c93c8a8>\u001b[0m in \u001b[0;36m<module>\u001b[0;34m()\u001b[0m\n\u001b[1;32m      2\u001b[0m \u001b[0mrules\u001b[0m \u001b[0;34m=\u001b[0m \u001b[0;34m{\u001b[0m\u001b[0;34m}\u001b[0m\u001b[0;34m\u001b[0m\u001b[0;34m\u001b[0m\u001b[0m\n\u001b[1;32m      3\u001b[0m \u001b[0mrules_count\u001b[0m \u001b[0;34m=\u001b[0m \u001b[0;34m{\u001b[0m\u001b[0;34m'Behavior'\u001b[0m\u001b[0;34m:\u001b[0m\u001b[0;34m[\u001b[0m\u001b[0;34m]\u001b[0m\u001b[0;34m,\u001b[0m\u001b[0;34m'Object_View'\u001b[0m\u001b[0;34m:\u001b[0m\u001b[0;34m[\u001b[0m\u001b[0;34m]\u001b[0m\u001b[0;34m,\u001b[0m \u001b[0;34m\"type\"\u001b[0m\u001b[0;34m:\u001b[0m\u001b[0;34m[\u001b[0m\u001b[0;34m]\u001b[0m\u001b[0;34m,\u001b[0m\u001b[0;34m'color'\u001b[0m\u001b[0;34m:\u001b[0m\u001b[0;34m[\u001b[0m\u001b[0;34m]\u001b[0m\u001b[0;34m}\u001b[0m\u001b[0;34m\u001b[0m\u001b[0;34m\u001b[0m\u001b[0m\n\u001b[0;32m----> 4\u001b[0;31m \u001b[0;32mwith\u001b[0m \u001b[0mopen\u001b[0m\u001b[0;34m(\u001b[0m\u001b[0mrulesfile\u001b[0m\u001b[0;34m,\u001b[0m \u001b[0;34m'r'\u001b[0m\u001b[0;34m)\u001b[0m \u001b[0;32mas\u001b[0m \u001b[0minputs\u001b[0m\u001b[0;34m:\u001b[0m\u001b[0;34m\u001b[0m\u001b[0;34m\u001b[0m\u001b[0m\n\u001b[0m\u001b[1;32m      5\u001b[0m     \u001b[0;32mfor\u001b[0m \u001b[0mline\u001b[0m \u001b[0;32min\u001b[0m \u001b[0minputs\u001b[0m\u001b[0;34m:\u001b[0m\u001b[0;34m\u001b[0m\u001b[0;34m\u001b[0m\u001b[0m\n\u001b[1;32m      6\u001b[0m         \u001b[0mline\u001b[0m \u001b[0;34m=\u001b[0m \u001b[0mline\u001b[0m\u001b[0;34m.\u001b[0m\u001b[0mstrip\u001b[0m\u001b[0;34m(\u001b[0m\u001b[0;34m)\u001b[0m\u001b[0;34m\u001b[0m\u001b[0;34m\u001b[0m\u001b[0m\n",
      "\u001b[0;31mFileNotFoundError\u001b[0m: [Errno 2] No such file or directory: 'res.txt'"
     ]
    }
   ],
   "source": [
    "rulesfile = 'res.txt'\n",
    "rules = {}\n",
    "rules_count = {'Behavior':[],'Object_View':[], \"type\":[],'color':[]}\n",
    "with open(rulesfile, 'r') as inputs:\n",
    "    for line in inputs:\n",
    "        line = line.strip()\n",
    "        res = line.split(\":\")\n",
    "        rules[int(res[1])] = res[0]\n",
    "        if res[0].startswith('Behavior'):\n",
    "          rules_count['Behavior'].append(int(res[1]))\n",
    "        elif res[0].startswith('Object_View'):\n",
    "          rules_count['Object_View'].append(int(res[1]))          \n",
    "        elif res[0].startswith('type'):\n",
    "          rules_count['type'].append(int(res[1]))  \n",
    "        elif res[0].startswith('color'):\n",
    "          rules_count['color'].append(int(res[1]))  "
   ]
  },
  {
   "cell_type": "code",
   "execution_count": null,
   "metadata": {
    "colab": {
     "base_uri": "https://localhost:8080/"
    },
    "executionInfo": {
     "elapsed": 795,
     "status": "ok",
     "timestamp": 1616577009230,
     "user": {
      "displayName": "Tiffany Li",
      "photoUrl": "",
      "userId": "09773556364012302263"
     },
     "user_tz": -480
    },
    "id": "q3IhkDN7pjTk",
    "outputId": "a6399417-1a16-4e24-9904-8c85300cb8eb"
   },
   "outputs": [
    {
     "data": {
      "text/plain": [
       "{0: 'Object_View -> \"Hist\"',\n",
       " 1: 'Object_View -> \"Map\"',\n",
       " 2: 'Behavior -> color',\n",
       " 3: 'type -> \"Zoom\"',\n",
       " 4: 'y_position1 -> None',\n",
       " 5: 'color -> \"1\"',\n",
       " 6: 'number -> None',\n",
       " 7: 'x_position1 -> None',\n",
       " 8: 'root -> Behavior \"+\" Object_View \"+\" type',\n",
       " 9: 'Object_View -> \"Force\"',\n",
       " 10: 'scale -> None',\n",
       " 11: 'y_position2 -> None',\n",
       " 12: 'color -> \"0\"',\n",
       " 13: 'Behavior -> x_position1 \"+\" x_position2 \"+\" y_position1 \"+\" y_position2',\n",
       " 14: 'type -> \"Filter\"',\n",
       " 15: 'color -> \"3\"',\n",
       " 16: 'type -> \"Click\"',\n",
       " 17: 'delta_y -> None',\n",
       " 18: 'type -> \"Brush\"',\n",
       " 19: 'color -> \"2\"',\n",
       " 20: 'Object_View -> \"Wordle\"',\n",
       " 21: 'x_position -> None',\n",
       " 22: 'color -> \"5\"',\n",
       " 23: 'Nothing -> None',\n",
       " 24: 'x_position2 -> None',\n",
       " 25: 'Behavior -> delta_x \"+\" delta_y \"+\" scale',\n",
       " 26: 'Behavior -> number',\n",
       " 27: 'Behavior -> x_position \"+\" y_position',\n",
       " 28: 'color -> \"4\"',\n",
       " 29: 'y_position -> None',\n",
       " 30: 'delta_x -> None'}"
      ]
     },
     "execution_count": 31,
     "metadata": {
      "tags": []
     },
     "output_type": "execute_result"
    }
   ],
   "source": [
    "rules"
   ]
  },
  {
   "cell_type": "code",
   "execution_count": null,
   "metadata": {
    "id": "RA0z2787TwtJ"
   },
   "outputs": [],
   "source": [
    "clean_res = []\n",
    "for i in trainPredict_org:\n",
    "  #i[0] = find_closed(rules['Behavior'],i[0])\n",
    "  i[-2] = find_closed(rules_count['Object_View'],i[-2])\n",
    "  i[-1] = find_closed(rules_count['type'],i[-1])\n",
    "  if i[-1] == list(rules.keys())[list(rules.values()).index('type -> \"Filter\"')]:\n",
    "    i[0] = find_closed(rules_count['color'],i[0])\n",
    "  clean_res.append(i)\n"
   ]
  },
  {
   "cell_type": "code",
   "execution_count": null,
   "metadata": {
    "colab": {
     "base_uri": "https://localhost:8080/"
    },
    "executionInfo": {
     "elapsed": 1006,
     "status": "ok",
     "timestamp": 1616577014286,
     "user": {
      "displayName": "Tiffany Li",
      "photoUrl": "",
      "userId": "09773556364012302263"
     },
     "user_tz": -480
    },
    "id": "lBAaorvg-8V0",
    "outputId": "f4e9ae12-7a9d-4fe6-b477-c5c3fc84fadc"
   },
   "outputs": [
    {
     "data": {
      "text/plain": [
       "{0: 'Object_View -> \"Hist\"',\n",
       " 1: 'Object_View -> \"Map\"',\n",
       " 2: 'Behavior -> color',\n",
       " 3: 'type -> \"Zoom\"',\n",
       " 4: 'y_position1 -> None',\n",
       " 5: 'color -> \"1\"',\n",
       " 6: 'number -> None',\n",
       " 7: 'x_position1 -> None',\n",
       " 8: 'root -> Behavior \"+\" Object_View \"+\" type',\n",
       " 9: 'Object_View -> \"Force\"',\n",
       " 10: 'scale -> None',\n",
       " 11: 'y_position2 -> None',\n",
       " 12: 'color -> \"0\"',\n",
       " 13: 'Behavior -> x_position1 \"+\" x_position2 \"+\" y_position1 \"+\" y_position2',\n",
       " 14: 'type -> \"Filter\"',\n",
       " 15: 'color -> \"3\"',\n",
       " 16: 'type -> \"Click\"',\n",
       " 17: 'delta_y -> None',\n",
       " 18: 'type -> \"Brush\"',\n",
       " 19: 'color -> \"2\"',\n",
       " 20: 'Object_View -> \"Wordle\"',\n",
       " 21: 'x_position -> None',\n",
       " 22: 'color -> \"5\"',\n",
       " 23: 'Nothing -> None',\n",
       " 24: 'x_position2 -> None',\n",
       " 25: 'Behavior -> delta_x \"+\" delta_y \"+\" scale',\n",
       " 26: 'Behavior -> number',\n",
       " 27: 'Behavior -> x_position \"+\" y_position',\n",
       " 28: 'color -> \"4\"',\n",
       " 29: 'y_position -> None',\n",
       " 30: 'delta_x -> None'}"
      ]
     },
     "execution_count": 33,
     "metadata": {
      "tags": []
     },
     "output_type": "execute_result"
    }
   ],
   "source": [
    "rules"
   ]
  },
  {
   "cell_type": "code",
   "execution_count": null,
   "metadata": {
    "colab": {
     "base_uri": "https://localhost:8080/"
    },
    "executionInfo": {
     "elapsed": 1187,
     "status": "ok",
     "timestamp": 1616577016945,
     "user": {
      "displayName": "Tiffany Li",
      "photoUrl": "",
      "userId": "09773556364012302263"
     },
     "user_tz": -480
    },
    "id": "sXGm-fDU36nl",
    "outputId": "d5ed8d44-af33-4db6-bb86-20c043c4e12e"
   },
   "outputs": [
    {
     "name": "stdout",
     "output_type": "stream",
     "text": [
      "[142.05428559 201.78852124  46.50685403 168.38999754]\n",
      "[148.73458785 222.05448148  69.80887292 191.49933055]\n",
      "[333.70711875 263.83539677  70.40314132 200.74102396]\n",
      "[161.54558784 236.28966199 100.19391096 237.88207245]\n",
      "[225.95853615 252.48012461  59.08208272 187.56408101]\n",
      "[117.82834393 238.9385324   74.09607232 207.95278785]\n",
      "[312.6357311  241.11419088  69.10826696 195.62664631]\n",
      "[219.3481341  240.51390529 145.2085788  292.62810087]\n",
      "[236.29815114 232.18978509 139.90778813 283.51862684]\n",
      "[215.793926   257.57105325 177.6101886  324.44783562]\n",
      "[225.69857192 239.38416937 181.38736403 330.97364372]\n",
      "[231.59497899 243.72566205 181.56622517 331.55510807]\n",
      "[218.03524399 248.72379036 113.87160212 263.01561445]\n",
      "[184.05520391 215.61427784  56.93411426 197.04593155]\n",
      "[137.92129442 240.71273524  87.85975108 227.84059003]\n",
      "[212.2043587  261.90447998  63.4819766  214.59739745]\n",
      "[161.67922971 205.62875257 145.07987058 259.25157833]\n",
      "[332.57995844 233.73441526 126.72273695 255.06896415]\n",
      "[329.62606072 241.69597222  69.84028897 195.94995224]\n",
      "[152.7526229  234.5116355   92.76991609 235.44472602]\n",
      "[109.62839198 243.39777684  79.94834572 218.32375157]\n",
      "[191.52212131 213.4910062   98.304959   235.34808937]\n",
      "[192.15456235 255.02754262 122.96883845 271.25953966]\n",
      "[186.75550604 215.77277802  62.60129969 197.61068916]\n",
      "[187.73017287 253.94589542  45.31434524 174.32461464]\n",
      "[182.50540271 222.63352765  96.3783685  238.70684284]\n",
      "[329.62606072 241.69597222  69.84028897 195.94995224]\n",
      "[151.90119362 231.35100962  95.50217092 230.89386392]\n",
      "[191.5220992  213.4910062   98.304959   235.34808937]\n",
      "[192.15458447 255.02754262 122.96883845 271.25953966]\n",
      "[186.75548393 215.77276406  62.60129969 197.61068916]\n",
      "[163.22937366 206.96583094  98.19734225 242.14627847]\n",
      "[175.32117099 266.22127242  92.59623241 236.55921394]\n",
      "[206.99162924 224.25897086 122.94993246 271.40204549]\n",
      "[172.21219254 233.46652232  92.9900322  233.05945912]\n",
      "[227.6607092  231.62106557  90.10562745 234.14079598]\n",
      "[163.55908331 261.75968355  92.6562286  234.56929311]\n",
      "[171.04605749 235.08161096  69.47985654 219.11516097]\n",
      "[184.64774147 243.38253805  94.3835603  238.65647772]\n",
      "[171.57874534 231.18872765  86.07304761 224.89201751]\n",
      "[194.19686043 229.50273398 101.28316525 241.84590712]\n",
      "[152.7526229  234.51166341  92.76991609 235.44472602]\n",
      "[191.52212131 213.4910062   98.304959   235.34808937]\n",
      "[192.15458447 255.02754262 122.96883845 271.25953966]\n",
      "[186.75550604 215.77276406  62.60129969 197.61068916]\n",
      "[187.73017287 253.94589542  45.31434524 174.32461464]\n",
      "[127.66589803 196.37466139  50.39144674 170.97728473]\n",
      "[161.54556572 236.28966199 100.19391096 237.88207245]\n",
      "[191.5220992  213.49099224  98.30495033 235.34808937]\n",
      "[192.15456235 255.02754262 122.96883845 271.25953966]\n",
      "[186.75550604 215.77277802  62.60129969 197.61067167]\n",
      "[187.73017287 253.94589542  45.31434524 174.32461464]\n",
      "[182.50540271 222.63352765  96.3783685  238.70684284]\n",
      "[191.20678532 234.72341563  62.58231997 195.38855347]\n",
      "[323.02501261 272.68352486  67.49067244 201.98864093]\n",
      "[184.26676208 262.92584185  99.96128047 251.11328167]\n",
      "[223.1094777  245.50530732 132.48601341 278.59465349]\n",
      "[206.44436872 251.69083335 140.9543218  290.08204696]\n",
      "[149.92667288 221.4822174   91.24514741 231.0379442 ]\n",
      "[161.54553255 236.28966199 100.19391096 237.88207245]\n",
      "[191.5220992  213.49099224  98.30495033 235.34808937]\n"
     ]
    }
   ],
   "source": [
    "# 填充为完整的数据\n",
    "full_res = []\n",
    "for predict in clean_res:\n",
    "  Type = predict[-1]\n",
    "  Object_View = predict[-2]\n",
    "  if rules[Type]=='type -> \"Brush\"':\n",
    "    Object_View = list(rules.keys())[list(rules.values()).index('Object_View -> \"Map\"')]\n",
    "    Behavior = list(rules.keys())[list(rules.values()).index('Behavior -> x_position1 \"+\" x_position2 \"+\" y_position1 \"+\" y_position2')]\n",
    "    save = predict[:4]\n",
    "    print(save)\n",
    "  elif rules[Type]=='type -> \"Filter\"':\n",
    "    Object_View = list(rules.keys())[list(rules.values()).index('Object_View -> \"Map\"')]\n",
    "    Behavior = list(rules.keys())[list(rules.values()).index('Behavior -> color')]\n",
    "    save = [predict[0]]\n",
    "  elif rules[Type]=='type -> \"Zoom\"':\n",
    "    Object_View = list(rules.keys())[list(rules.values()).index('Object_View -> \"Map\"')]\n",
    "    Behavior = list(rules.keys())[list(rules.values()).index('Behavior -> delta_x \"+\" delta_y \"+\" scale')]\n",
    "    save = predict[:3]\n",
    "  elif rules[Type]=='type -> \"Click\"':\n",
    "    if (rules[Object_View] == 'Object_View -> \"Hist\"'):\n",
    "      Behavior = list(rules.keys())[list(rules.values()).index('Behavior -> number')]\n",
    "      save = [predict[0]]\n",
    "    else:\n",
    "      Behavior = list(rules.keys())[list(rules.values()).index('Behavior -> x_position \"+\" y_position')]\n",
    "      save = predict[:2]\n",
    "  else:\n",
    "    print(predict)\n",
    "    full_res.append([])\n",
    "    continue\n",
    "  predict_full = [sequence[0][0],Behavior]\n",
    "  for value in save:\n",
    "    predict_full.append(int(value))\n",
    "  predict_full.append(Object_View)  \n",
    "  predict_full.append(Type) \n",
    "  full_res.append(predict_full)\n",
    "\n"
   ]
  },
  {
   "cell_type": "code",
   "execution_count": null,
   "metadata": {
    "colab": {
     "base_uri": "https://localhost:8080/"
    },
    "executionInfo": {
     "elapsed": 1112,
     "status": "ok",
     "timestamp": 1616480209204,
     "user": {
      "displayName": "Tiffany Li",
      "photoUrl": "",
      "userId": "09773556364012302263"
     },
     "user_tz": -480
    },
    "id": "ZDSSVaJWVGe9",
    "outputId": "85871e42-5bda-4ead-81bd-8a01a78d30e8"
   },
   "outputs": [
    {
     "name": "stdout",
     "output_type": "stream",
     "text": [
      "93 709 905\n"
     ]
    }
   ],
   "source": [
    "count_brush=0\n",
    "count_zoom=0\n",
    "count_Filter = 0\n",
    "for i in range(len(full_res)):\n",
    "  if full_res[i][-1]==list(rules.keys())[list(rules.values()).index('type -> \"Brush\"')]:\n",
    "    count_brush = count_brush+1\n",
    "  elif full_res[i][-1]==list(rules.keys())[list(rules.values()).index('type -> \"Zoom\"')]:\n",
    "    count_zoom= count_zoom+1\n",
    "  elif full_res[i][-1]==list(rules.keys())[list(rules.values()).index('type -> \"Filter\"')]:\n",
    "    count_Filter= count_Filter+1\n",
    "print(count_brush,count_zoom,count_Filter)\n"
   ]
  }
 ],
 "metadata": {
  "accelerator": "GPU",
  "colab": {
   "authorship_tag": "ABX9TyMtH3+9M6g3iWsMJdphS+oP",
   "collapsed_sections": [],
   "name": "LSTM_V5.ipynb",
   "provenance": []
  },
  "kernelspec": {
   "display_name": "Python 3",
   "language": "python",
   "name": "python3"
  },
  "language_info": {
   "codemirror_mode": {
    "name": "ipython",
    "version": 3
   },
   "file_extension": ".py",
   "mimetype": "text/x-python",
   "name": "python",
   "nbconvert_exporter": "python",
   "pygments_lexer": "ipython3",
   "version": "3.7.3"
  }
 },
 "nbformat": 4,
 "nbformat_minor": 1
}
